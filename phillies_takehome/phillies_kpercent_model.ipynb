{
 "cells": [
  {
   "cell_type": "markdown",
   "metadata": {},
   "source": [
    "# Phillies Quantitative Analyst Take-Home\n",
    "### Author: Ryan Williams\n",
    "### Date: [Submission Date]\n",
    "\n",
    "This notebook addresses Question 11 of the Phillies take-home assessment. The objective is to predict each player’s **2024 Strikeout Percentage (K%)** using prior seasons' data, and optionally incorporating supplemental information to improve predictive power.\n",
    "\n",
    "We follow a structured workflow:\n",
    "- Exploratory Data Analysis\n",
    "- Baseline Linear Model\n",
    "- Advanced ML Model (LightGBM)\n",
    "- Optional: External Feature Augmentation (e.g., fastball velocity via `pybaseball`)\n",
    "- Evaluation & Prediction\n"
   ]
  },
  {
   "cell_type": "code",
   "execution_count": null,
   "metadata": {},
   "outputs": [],
   "source": [
    "# Imports\n",
    "import pandas as pd\n",
    "import numpy as np\n",
    "import matplotlib.pyplot as plt\n",
    "import seaborn as sns\n",
    "from sklearn.linear_model import LinearRegression, RidgeCV\n",
    "from sklearn.model_selection import train_test_split, cross_val_score\n",
    "from sklearn.metrics import mean_squared_error, r2_score\n",
    "import lightgbm as lgb\n",
    "# Optional: pybaseball for supplemental data\n",
    "# from pybaseball import pitching_stats\n",
    "\n",
    "sns.set(style='whitegrid')"
   ]
  },
  {
   "cell_type": "markdown",
   "metadata": {},
   "source": [
    "## Load Data\n",
    "We begin by loading `k.csv`, which contains:\n",
    "- Player identifiers (MLBAMID, FanGraphs ID)\n",
    "- Age and season\n",
    "- Total Batters Faced (TBF) and Strikeout Percentage (K%)"
   ]
  },
  {
   "cell_type": "code",
   "execution_count": null,
   "metadata": {},
   "outputs": [],
   "source": [
    "df = pd.read_csv('k.csv')\n",
    "df.head()"
   ]
  },
  {
   "cell_type": "markdown",
   "metadata": {},
   "source": [
    "## Exploratory Data Analysis (EDA)\n",
    "- Examine K% distribution by season\n",
    "- TBF trends by age\n",
    "- Visualize player-level trajectories if useful"
   ]
  },
  {
   "cell_type": "code",
   "execution_count": null,
   "metadata": {},
   "outputs": [],
   "source": [
    "df['Season'] = df['Season'].astype(int)\n",
    "df['Age'] = df['Age'].astype(float)\n",
    "\n",
    "sns.histplot(data=df, x='K%', bins=30, kde=True)\n",
    "plt.title('Strikeout % Distribution')\n",
    "plt.show()"
   ]
  },
  {
   "cell_type": "markdown",
   "metadata": {},
   "source": [
    "## Feature Engineering\n",
    "We will pivot the dataset so each row is a player, with past season stats as features.\n",
    "\n",
    "- Encode prior years' K% and TBF as features\n",
    "- Compute year-over-year deltas\n",
    "- Optional: include player age or trend features"
   ]
  },
  {
   "cell_type": "code",
   "execution_count": null,
   "metadata": {},
   "outputs": [],
   "source": [
    "# Example preprocessing stub\n",
    "def preprocess_for_modeling(df):\n",
    "    df = df.sort_values(['MLBAMID', 'Season'])\n",
    "    features = []\n",
    "    targets = []\n",
    "    for pid, group in df.groupby('MLBAMID'):\n",
    "        group = group.reset_index(drop=True)\n",
    "        if len(group) < 2:\n",
    "            continue\n",
    "        for i in range(1, len(group)):\n",
    "            row = {\n",
    "                'Prev_K%': group.loc[i-1, 'K%'],\n",
    "                'Prev_TBF': group.loc[i-1, 'TBF'],\n",
    "                'Age': group.loc[i, 'Age']\n",
    "            }\n",
    "            features.append(row)\n",
    "            targets.append(group.loc[i, 'K%'])\n",
    "    return pd.DataFrame(features), pd.Series(targets)\n",
    "\n",
    "X, y = preprocess_for_modeling(df)\n",
    "X.head()"
   ]
  },
  {
   "cell_type": "markdown",
   "metadata": {},
   "source": [
    "## Baseline Linear Model\n",
    "We'll begin with a simple linear regression to establish a baseline performance.\n"
   ]
  },
  {
   "cell_type": "code",
   "execution_count": null,
   "metadata": {},
   "outputs": [],
   "source": [
    "X_train, X_test, y_train, y_test = train_test_split(X, y, test_size=0.2, random_state=42)\n",
    "lr = LinearRegression()\n",
    "lr.fit(X_train, y_train)\n",
    "y_pred = lr.predict(X_test)\n",
    "\n",
    "print(f'R²: {r2_score(y_test, y_pred):.4f}')\n",
    "print(f'RMSE: {mean_squared_error(y_test, y_pred, squared=False):.4f}')"
   ]
  },
  {
   "cell_type": "markdown",
   "metadata": {},
   "source": [
    "## LightGBM Model (Gradient Boosted Trees)\n",
    "A more flexible model to capture nonlinear effects and feature interactions.\n"
   ]
  },
  {
   "cell_type": "code",
   "execution_count": null,
   "metadata": {},
   "outputs": [],
   "source": [
    "lgb_train = lgb.Dataset(X_train, y_train)\n",
    "lgb_eval = lgb.Dataset(X_test, y_test, reference=lgb_train)\n",
    "\n",
    "params = {\n",
    "    'objective': 'regression',\n",
    "    'metric': 'rmse',\n",
    "    'verbosity': -1\n",
    "}\n",
    "gbm = lgb.train(params, lgb_train, num_boost_round=100, valid_sets=[lgb_eval], early_stopping_rounds=10)\n",
    "y_pred_gbm = gbm.predict(X_test)\n",
    "\n",
    "print(f'LGBM RMSE: {mean_squared_error(y_test, y_pred_gbm, squared=False):.4f}')"
   ]
  },
  {
   "cell_type": "markdown",
   "metadata": {},
   "source": [
    "## Optional: Integrating External Data (Fastball Velocity, Stuff+, etc.)\n",
    "You may augment features using `pybaseball` to retrieve:\n",
    "- Fastball velocity\n",
    "- Pitch type usage\n",
    "- Historical Stuff+ ratings\n",
    "\n",
    "This shows initiative and awareness of predictive features used by MLB teams.\n"
   ]
  },
  {
   "cell_type": "markdown",
   "metadata": {},
   "source": [
    "## Conclusion & Deliverables\n",
    "- Summary of findings\n",
    "- Model performance comparison\n",
    "- Export of 2024 predictions for all eligible players (if requested)\n"
   ]
  },
  {
   "cell_type": "markdown",
   "id": "c05af666",
   "metadata": {},
   "source": []
  }
 ],
 "metadata": {
  "kernelspec": {
   "display_name": "Python 3",
   "language": "python",
   "name": "python3"
  },
  "language_info": {
   "name": "python",
   "version": "3.x"
  }
 },
 "nbformat": 4,
 "nbformat_minor": 5
}
