{
 "cells": [
  {
   "cell_type": "markdown",
   "metadata": {},
   "source": [
    "# Phillies Quantitative Analyst Take-Home\n",
    "### Author: Ryan Williams\n",
    "### Date: 05/12/2025\n",
    "\n",
    "**Language**: Julia 1.11+\n",
    "\n",
    "This notebook addresses Question 11 of the assessment, where we are tasked with predicting each pitcher's 2024 strikeout percentage (K%) using their prior performance data.\n",
    "\n",
    "We use a hierarchical Bayesian model implemented via `Turing.jl` to estimate future K% while accounting for player-level effects and uncertainty.\n"
   ]
  },
  {
   "cell_type": "code",
   "execution_count": null,
   "id": "bc1c2eed",
   "metadata": {},
   "outputs": [
    {
     "name": "stderr",
     "output_type": "stream",
     "text": [
      "\u001b[32m\u001b[1m  Activating\u001b[22m\u001b[39m project at `~/git/QuantAnalysisAssets/phillies_takehome/k_model_env`\n",
      "\u001b[32m\u001b[1m   Resolving\u001b[22m\u001b[39m package versions...\n",
      "\u001b[32m\u001b[1m   Installed\u001b[22m\u001b[39m PrettyPrint ────────────── v0.2.0\n",
      "\u001b[32m\u001b[1m   Installed\u001b[22m\u001b[39m CategoricalDistributions ─ v0.1.15\n",
      "\u001b[32m\u001b[1m   Installed\u001b[22m\u001b[39m ContextVariablesX ──────── v0.1.3\n",
      "\u001b[32m\u001b[1m   Installed\u001b[22m\u001b[39m ShowCases ──────────────── v0.1.0\n",
      "\u001b[32m\u001b[1m   Installed\u001b[22m\u001b[39m EarlyStopping ──────────── v0.3.0\n",
      "\u001b[32m\u001b[1m   Installed\u001b[22m\u001b[39m LearnAPI ───────────────── v0.1.0\n",
      "\u001b[32m\u001b[1m   Installed\u001b[22m\u001b[39m IterationControl ───────── v0.5.4\n",
      "\u001b[32m\u001b[1m   Installed\u001b[22m\u001b[39m MLJModels ──────────────── v0.17.9\n",
      "\u001b[32m\u001b[1m   Installed\u001b[22m\u001b[39m MLUtils ────────────────── v0.4.8\n",
      "\u001b[32m\u001b[1m   Installed\u001b[22m\u001b[39m MLCore ─────────────────── v1.0.0\n",
      "\u001b[32m\u001b[1m   Installed\u001b[22m\u001b[39m FLoopsBase ─────────────── v0.1.1\n",
      "\u001b[32m\u001b[1m   Installed\u001b[22m\u001b[39m NameResolution ─────────── v0.1.5\n",
      "\u001b[32m\u001b[1m   Installed\u001b[22m\u001b[39m PrettyPrinting ─────────── v0.4.2\n",
      "\u001b[32m\u001b[1m   Installed\u001b[22m\u001b[39m ComputationalResources ─── v0.3.2\n",
      "\u001b[32m\u001b[1m   Installed\u001b[22m\u001b[39m MLStyle ────────────────── v0.4.17\n",
      "\u001b[32m\u001b[1m   Installed\u001b[22m\u001b[39m FLoops ─────────────────── v0.2.2\n",
      "\u001b[32m\u001b[1m   Installed\u001b[22m\u001b[39m MLJFlow ────────────────── v0.5.0\n",
      "\u001b[32m\u001b[1m   Installed\u001b[22m\u001b[39m StatisticalMeasures ────── v0.1.7\n",
      "\u001b[32m\u001b[1m   Installed\u001b[22m\u001b[39m MLJBase ────────────────── v1.7.0\n",
      "\u001b[32m\u001b[1m   Installed\u001b[22m\u001b[39m MLJIteration ───────────── v0.6.3\n",
      "\u001b[32m\u001b[1m   Installed\u001b[22m\u001b[39m StatisticalMeasuresBase ── v0.1.2\n",
      "\u001b[32m\u001b[1m   Installed\u001b[22m\u001b[39m ScientificTypes ────────── v3.1.0\n",
      "\u001b[32m\u001b[1m   Installed\u001b[22m\u001b[39m ARFFFiles ──────────────── v1.5.0\n",
      "\u001b[32m\u001b[1m   Installed\u001b[22m\u001b[39m OpenML ─────────────────── v0.3.2\n",
      "\u001b[32m\u001b[1m   Installed\u001b[22m\u001b[39m FeatureSelection ───────── v0.2.2\n",
      "\u001b[32m\u001b[1m   Installed\u001b[22m\u001b[39m JuliaVariables ─────────── v0.2.4\n",
      "\u001b[32m\u001b[1m   Installed\u001b[22m\u001b[39m SimpleTraits ───────────── v0.9.4\n",
      "\u001b[32m\u001b[1m   Installed\u001b[22m\u001b[39m MLJ ────────────────────── v0.20.7\n",
      "\u001b[32m\u001b[1m   Installed\u001b[22m\u001b[39m MLJEnsembles ───────────── v0.4.3\n",
      "\u001b[32m\u001b[1m   Installed\u001b[22m\u001b[39m MLJBalancing ───────────── v0.1.5\n",
      "\u001b[32m\u001b[1m   Installed\u001b[22m\u001b[39m MLJTuning ──────────────── v0.8.8\n",
      "\u001b[32m\u001b[1m   Installed\u001b[22m\u001b[39m MLFlowClient ───────────── v0.5.1\n",
      "\u001b[32m\u001b[1m   Installed\u001b[22m\u001b[39m LatinHypercubeSampling ─── v1.9.0\n",
      "\u001b[32m\u001b[1m    Updating\u001b[22m\u001b[39m `~/git/QuantAnalysisAssets/phillies_takehome/k_model_env/Project.toml`\n",
      "  \u001b[90m[add582a8] \u001b[39m\u001b[92m+ MLJ v0.20.7\u001b[39m\n",
      "  \u001b[90m[d491faf4] \u001b[39m\u001b[92m+ MLJModels v0.17.9\u001b[39m\n",
      "\u001b[32m\u001b[1m    Updating\u001b[22m\u001b[39m `~/git/QuantAnalysisAssets/phillies_takehome/k_model_env/Manifest.toml`\n",
      "  \u001b[90m[da404889] \u001b[39m\u001b[92m+ ARFFFiles v1.5.0\u001b[39m\n",
      "  \u001b[90m[af321ab8] \u001b[39m\u001b[92m+ CategoricalDistributions v0.1.15\u001b[39m\n",
      "  \u001b[90m[ed09eef8] \u001b[39m\u001b[92m+ ComputationalResources v0.3.2\u001b[39m\n",
      "  \u001b[90m[6add18c4] \u001b[39m\u001b[92m+ ContextVariablesX v0.1.3\u001b[39m\n",
      "  \u001b[90m[792122b4] \u001b[39m\u001b[92m+ EarlyStopping v0.3.0\u001b[39m\n",
      "  \u001b[90m[cc61a311] \u001b[39m\u001b[92m+ FLoops v0.2.2\u001b[39m\n",
      "  \u001b[90m[b9860ae5] \u001b[39m\u001b[92m+ FLoopsBase v0.1.1\u001b[39m\n",
      "  \u001b[90m[33837fe5] \u001b[39m\u001b[92m+ FeatureSelection v0.2.2\u001b[39m\n",
      "  \u001b[90m[b3c1a2ee] \u001b[39m\u001b[92m+ IterationControl v0.5.4\u001b[39m\n",
      "  \u001b[90m[b14d175d] \u001b[39m\u001b[92m+ JuliaVariables v0.2.4\u001b[39m\n",
      "  \u001b[90m[a5e1c1ea] \u001b[39m\u001b[92m+ LatinHypercubeSampling v1.9.0\u001b[39m\n",
      "\u001b[33m⌅\u001b[39m \u001b[90m[92ad9a40] \u001b[39m\u001b[92m+ LearnAPI v0.1.0\u001b[39m\n",
      "  \u001b[90m[c2834f40] \u001b[39m\u001b[92m+ MLCore v1.0.0\u001b[39m\n",
      "\u001b[33m⌅\u001b[39m \u001b[90m[64a0f543] \u001b[39m\u001b[92m+ MLFlowClient v0.5.1\u001b[39m\n",
      "  \u001b[90m[add582a8] \u001b[39m\u001b[92m+ MLJ v0.20.7\u001b[39m\n",
      "  \u001b[90m[45f359ea] \u001b[39m\u001b[92m+ MLJBalancing v0.1.5\u001b[39m\n",
      "\u001b[32m⌃\u001b[39m \u001b[90m[a7f614a8] \u001b[39m\u001b[92m+ MLJBase v1.7.0\u001b[39m\n",
      "  \u001b[90m[50ed68f4] \u001b[39m\u001b[92m+ MLJEnsembles v0.4.3\u001b[39m\n",
      "  \u001b[90m[7b7b8358] \u001b[39m\u001b[92m+ MLJFlow v0.5.0\u001b[39m\n",
      "  \u001b[90m[614be32b] \u001b[39m\u001b[92m+ MLJIteration v0.6.3\u001b[39m\n",
      "  \u001b[90m[d491faf4] \u001b[39m\u001b[92m+ MLJModels v0.17.9\u001b[39m\n",
      "  \u001b[90m[03970b2e] \u001b[39m\u001b[92m+ MLJTuning v0.8.8\u001b[39m\n",
      "  \u001b[90m[d8e11817] \u001b[39m\u001b[92m+ MLStyle v0.4.17\u001b[39m\n",
      "  \u001b[90m[f1d291b0] \u001b[39m\u001b[92m+ MLUtils v0.4.8\u001b[39m\n",
      "  \u001b[90m[71a1bf82] \u001b[39m\u001b[92m+ NameResolution v0.1.5\u001b[39m\n",
      "  \u001b[90m[8b6db2d4] \u001b[39m\u001b[92m+ OpenML v0.3.2\u001b[39m\n",
      "  \u001b[90m[8162dcfd] \u001b[39m\u001b[92m+ PrettyPrint v0.2.0\u001b[39m\n",
      "  \u001b[90m[54e16d92] \u001b[39m\u001b[92m+ PrettyPrinting v0.4.2\u001b[39m\n",
      "  \u001b[90m[321657f4] \u001b[39m\u001b[92m+ ScientificTypes v3.1.0\u001b[39m\n",
      "  \u001b[90m[605ecd9f] \u001b[39m\u001b[92m+ ShowCases v0.1.0\u001b[39m\n",
      "  \u001b[90m[699a6c99] \u001b[39m\u001b[92m+ SimpleTraits v0.9.4\u001b[39m\n",
      "\u001b[33m⌅\u001b[39m \u001b[90m[a19d573c] \u001b[39m\u001b[92m+ StatisticalMeasures v0.1.7\u001b[39m\n",
      "  \u001b[90m[c062fc1d] \u001b[39m\u001b[92m+ StatisticalMeasuresBase v0.1.2\u001b[39m\n",
      "\u001b[36m\u001b[1m        Info\u001b[22m\u001b[39m Packages marked with \u001b[32m⌃\u001b[39m and \u001b[33m⌅\u001b[39m have new versions available. Those with \u001b[32m⌃\u001b[39m may be upgradable, but those with \u001b[33m⌅\u001b[39m are restricted by compatibility constraints from upgrading. To see why use `status --outdated -m`\n",
      "\u001b[92m\u001b[1mPrecompiling\u001b[22m\u001b[39m project...\n",
      "    679.5 ms\u001b[32m  ✓ \u001b[39m\u001b[90mPrettyPrint\u001b[39m\n",
      "    682.4 ms\u001b[32m  ✓ \u001b[39m\u001b[90mShowCases\u001b[39m\n",
      "    700.4 ms\u001b[32m  ✓ \u001b[39m\u001b[90mComputationalResources\u001b[39m\n",
      "    486.0 ms\u001b[32m  ✓ \u001b[39m\u001b[90mEarlyStopping\u001b[39m\n",
      "    652.9 ms\u001b[32m  ✓ \u001b[39m\u001b[90mSimpleTraits\u001b[39m\n",
      "    458.0 ms\u001b[32m  ✓ \u001b[39m\u001b[90mContextVariablesX\u001b[39m\n",
      "   1086.6 ms\u001b[32m  ✓ \u001b[39m\u001b[90mLearnAPI\u001b[39m\n",
      "    844.2 ms\u001b[32m  ✓ \u001b[39m\u001b[90mFeatureSelection\u001b[39m\n",
      "   2761.1 ms\u001b[32m  ✓ \u001b[39m\u001b[90mPrettyPrinting\u001b[39m\n",
      "    813.0 ms\u001b[32m  ✓ \u001b[39m\u001b[90mLatinHypercubeSampling\u001b[39m\n",
      "   1269.1 ms\u001b[32m  ✓ \u001b[39m\u001b[90mARFFFiles\u001b[39m\n",
      "    580.6 ms\u001b[32m  ✓ \u001b[39m\u001b[90mNameResolution\u001b[39m\n",
      "   1282.9 ms\u001b[32m  ✓ \u001b[39m\u001b[90mMLFlowClient\u001b[39m\n",
      "    855.9 ms\u001b[32m  ✓ \u001b[39m\u001b[90mMLCore\u001b[39m\n",
      "   1225.0 ms\u001b[32m  ✓ \u001b[39m\u001b[90mIterationControl\u001b[39m\n",
      "   1980.1 ms\u001b[32m  ✓ \u001b[39m\u001b[90mScientificTypes\u001b[39m\n",
      "    601.5 ms\u001b[32m  ✓ \u001b[39m\u001b[90mFLoopsBase\u001b[39m\n",
      "   1573.2 ms\u001b[32m  ✓ \u001b[39m\u001b[90mOpenML\u001b[39m\n",
      "   1670.0 ms\u001b[32m  ✓ \u001b[39m\u001b[90mCategoricalDistributions\u001b[39m\n",
      "   5568.7 ms\u001b[32m  ✓ \u001b[39mMLJModels\n",
      "  11899.9 ms\u001b[32m  ✓ \u001b[39m\u001b[90mMLStyle\u001b[39m\n",
      "    840.7 ms\u001b[32m  ✓ \u001b[39m\u001b[90mSciMLBase → SciMLBaseMLStyleExt\u001b[39m\n",
      "   1639.3 ms\u001b[32m  ✓ \u001b[39m\u001b[90mJuliaVariables\u001b[39m\n",
      "   2001.6 ms\u001b[32m  ✓ \u001b[39m\u001b[90mFLoops\u001b[39m\n",
      "   3338.5 ms\u001b[32m  ✓ \u001b[39m\u001b[90mMLUtils\u001b[39m\n",
      "   1603.2 ms\u001b[32m  ✓ \u001b[39m\u001b[90mOptimizationBase → OptimizationMLUtilsExt\u001b[39m\n",
      "   3924.2 ms\u001b[32m  ✓ \u001b[39m\u001b[90mStatisticalMeasuresBase\u001b[39m\n",
      "   2801.1 ms\u001b[32m  ✓ \u001b[39m\u001b[90mMLJEnsembles\u001b[39m\n",
      "   4372.9 ms\u001b[32m  ✓ \u001b[39m\u001b[90mMLJBase\u001b[39m\n",
      "   3417.1 ms\u001b[32m  ✓ \u001b[39m\u001b[90mMLJFlow\u001b[39m\n",
      "   3664.5 ms\u001b[32m  ✓ \u001b[39m\u001b[90mMLJBalancing\u001b[39m\n",
      "   3823.0 ms\u001b[32m  ✓ \u001b[39m\u001b[90mMLJTuning\u001b[39m\n",
      "   4178.2 ms\u001b[32m  ✓ \u001b[39m\u001b[90mMLJIteration\u001b[39m\n",
      "  11389.4 ms\u001b[32m  ✓ \u001b[39m\u001b[90mStatisticalMeasures\u001b[39m\n",
      "   1806.7 ms\u001b[32m  ✓ \u001b[39m\u001b[90mStatisticalMeasures → ScientificTypesExt\u001b[39m\n",
      "   1842.3 ms\u001b[32m  ✓ \u001b[39m\u001b[90mMLJBase → DefaultMeasuresExt\u001b[39m\n",
      "   4778.0 ms\u001b[32m  ✓ \u001b[39mMLJ\n",
      "  37 dependencies successfully precompiled in 42 seconds. 472 already precompiled.\n"
     ]
    }
   ],
   "source": [
    "# Setup Julia environment for the k_model package\n",
    "using Pkg\n",
    "Pkg.activate(\"k_model_env\")\n",
    "Pkg.add([\n",
    "    \"CSV\",\n",
    "    \"DataFrames\",\n",
    "    \"StatsPlots\",\n",
    "    \"Turing\",\n",
    "    \"Random\",\n",
    "    \"Distributions\",\n",
    "    \"StatsBase\",\n",
    "    \"CategoricalArrays\",\n",
    "    \"MCMCChains\",\n",
    "    \"MLJ\",\n",
    "    \"MLJLinearModels\"\n",
    "])\n",
    "Pkg.precompile()"
   ]
  },
  {
   "cell_type": "code",
   "execution_count": 13,
   "metadata": {},
   "outputs": [
    {
     "ename": "ArgumentError",
     "evalue": "ArgumentError: Package MLJLinearModels not found in current path.\n- Run `import Pkg; Pkg.add(\"MLJLinearModels\")` to install the MLJLinearModels package.",
     "output_type": "error",
     "traceback": [
      "ArgumentError: Package MLJLinearModels not found in current path.\n",
      "- Run `import Pkg; Pkg.add(\"MLJLinearModels\")` to install the MLJLinearModels package.\n",
      "\n",
      "Stacktrace:\n",
      "  [1] eval\n",
      "    @ ./boot.jl:430 [inlined]\n",
      "  [2] include_string(mapexpr::typeof(REPL.softscope), mod::Module, code::String, filename::String)\n",
      "    @ Base ./loading.jl:2734\n",
      "  [3] #invokelatest#2\n",
      "    @ ./essentials.jl:1055 [inlined]\n",
      "  [4] invokelatest\n",
      "    @ ./essentials.jl:1052 [inlined]\n",
      "  [5] (::VSCodeServer.var\"#217#218\"{VSCodeServer.NotebookRunCellArguments, String})()\n",
      "    @ VSCodeServer ~/.vscode/extensions/julialang.language-julia-1.127.2/scripts/packages/VSCodeServer/src/serve_notebook.jl:24\n",
      "  [6] withpath(f::VSCodeServer.var\"#217#218\"{VSCodeServer.NotebookRunCellArguments, String}, path::String)\n",
      "    @ VSCodeServer ~/.vscode/extensions/julialang.language-julia-1.127.2/scripts/packages/VSCodeServer/src/repl.jl:276\n",
      "  [7] notebook_runcell_request(conn::VSCodeServer.JSONRPC.JSONRPCEndpoint{Base.PipeEndpoint, Base.PipeEndpoint}, params::VSCodeServer.NotebookRunCellArguments)\n",
      "    @ VSCodeServer ~/.vscode/extensions/julialang.language-julia-1.127.2/scripts/packages/VSCodeServer/src/serve_notebook.jl:13\n",
      "  [8] dispatch_msg(x::VSCodeServer.JSONRPC.JSONRPCEndpoint{Base.PipeEndpoint, Base.PipeEndpoint}, dispatcher::VSCodeServer.JSONRPC.MsgDispatcher, msg::Dict{String, Any})\n",
      "    @ VSCodeServer.JSONRPC ~/.vscode/extensions/julialang.language-julia-1.127.2/scripts/packages/JSONRPC/src/typed.jl:67\n",
      "  [9] serve_notebook(pipename::String, debugger_pipename::String, outputchannel_logger::Base.CoreLogging.SimpleLogger; error_handler::var\"#5#10\"{String})\n",
      "    @ VSCodeServer ~/.vscode/extensions/julialang.language-julia-1.127.2/scripts/packages/VSCodeServer/src/serve_notebook.jl:147\n",
      " [10] top-level scope\n",
      "    @ ~/.vscode/extensions/julialang.language-julia-1.127.2/scripts/notebook/notebook.jl:35"
     ]
    }
   ],
   "source": [
    "# Load libraries\n",
    "using CSV, DataFrames\n",
    "using StatsPlots\n",
    "using Turing\n",
    "using Random, Distributions\n",
    "using StatsBase\n",
    "# using CategoricalArrays\n",
    "using LinearAlgebra\n",
    "using MCMCChains\n",
    "using MLJ\n",
    "using MLJLinearModels\n",
    "Random.seed!(42)"
   ]
  },
  {
   "cell_type": "markdown",
   "metadata": {},
   "source": [
    "## Load and inspect data\n",
    "We begin by loading `k.csv`, which contains:\n",
    "- Player identifiers (MLBAMID, FanGraphs ID)\n",
    "- Age and season\n",
    "- Total Batters Faced (TBF) and Strikeout Percentage (K%)"
   ]
  },
  {
   "cell_type": "code",
   "execution_count": 3,
   "metadata": {},
   "outputs": [
    {
     "data": {
      "text/html": [
       "<div><div style = \"float: left;\"><span>5×8 DataFrame</span></div><div style = \"clear: both;\"></div></div><div class = \"data-frame\" style = \"overflow-x: scroll;\"><table class = \"data-frame\" style = \"margin-bottom: 6px;\"><thead><tr class = \"header\"><th class = \"rowNumber\" style = \"font-weight: bold; text-align: right;\">Row</th><th style = \"text-align: left;\">MLBAMID</th><th style = \"text-align: left;\">PlayerId</th><th style = \"text-align: left;\">Name</th><th style = \"text-align: left;\">Team</th><th style = \"text-align: left;\">Age</th><th style = \"text-align: left;\">Season</th><th style = \"text-align: left;\">TBF</th><th style = \"text-align: left;\">K%</th></tr><tr class = \"subheader headerLastRow\"><th class = \"rowNumber\" style = \"font-weight: bold; text-align: right;\"></th><th title = \"Int64\" style = \"text-align: left;\">Int64</th><th title = \"Int64\" style = \"text-align: left;\">Int64</th><th title = \"String31\" style = \"text-align: left;\">String31</th><th title = \"String7\" style = \"text-align: left;\">String7</th><th title = \"Int64\" style = \"text-align: left;\">Int64</th><th title = \"Int64\" style = \"text-align: left;\">Int64</th><th title = \"Int64\" style = \"text-align: left;\">Int64</th><th title = \"Float64\" style = \"text-align: left;\">Float64</th></tr></thead><tbody><tr><td class = \"rowNumber\" style = \"font-weight: bold; text-align: right;\">1</td><td style = \"text-align: right;\">695243</td><td style = \"text-align: right;\">31757</td><td style = \"text-align: left;\">Mason Miller</td><td style = \"text-align: left;\">OAK</td><td style = \"text-align: right;\">25</td><td style = \"text-align: right;\">2024</td><td style = \"text-align: right;\">249</td><td style = \"text-align: right;\">0.417671</td></tr><tr><td class = \"rowNumber\" style = \"font-weight: bold; text-align: right;\">2</td><td style = \"text-align: right;\">621242</td><td style = \"text-align: right;\">14710</td><td style = \"text-align: left;\">Edwin Díaz</td><td style = \"text-align: left;\">NYM</td><td style = \"text-align: right;\">30</td><td style = \"text-align: right;\">2024</td><td style = \"text-align: right;\">216</td><td style = \"text-align: right;\">0.388889</td></tr><tr><td class = \"rowNumber\" style = \"font-weight: bold; text-align: right;\">3</td><td style = \"text-align: right;\">518585</td><td style = \"text-align: right;\">7048</td><td style = \"text-align: left;\">Fernando Cruz</td><td style = \"text-align: left;\">CIN</td><td style = \"text-align: right;\">34</td><td style = \"text-align: right;\">2024</td><td style = \"text-align: right;\">288</td><td style = \"text-align: right;\">0.378472</td></tr><tr><td class = \"rowNumber\" style = \"font-weight: bold; text-align: right;\">4</td><td style = \"text-align: right;\">623352</td><td style = \"text-align: right;\">14212</td><td style = \"text-align: left;\">Josh Hader</td><td style = \"text-align: left;\">HOU</td><td style = \"text-align: right;\">30</td><td style = \"text-align: right;\">2024</td><td style = \"text-align: right;\">278</td><td style = \"text-align: right;\">0.377698</td></tr><tr><td class = \"rowNumber\" style = \"font-weight: bold; text-align: right;\">5</td><td style = \"text-align: right;\">663574</td><td style = \"text-align: right;\">19926</td><td style = \"text-align: left;\">Tony Santillan</td><td style = \"text-align: left;\">CIN</td><td style = \"text-align: right;\">27</td><td style = \"text-align: right;\">2024</td><td style = \"text-align: right;\">122</td><td style = \"text-align: right;\">0.377049</td></tr></tbody></table></div>"
      ],
      "text/latex": [
       "\\begin{tabular}{r|cccccccc}\n",
       "\t& MLBAMID & PlayerId & Name & Team & Age & Season & TBF & K\\%\\\\\n",
       "\t\\hline\n",
       "\t& Int64 & Int64 & String31 & String7 & Int64 & Int64 & Int64 & Float64\\\\\n",
       "\t\\hline\n",
       "\t1 & 695243 & 31757 & Mason Miller & OAK & 25 & 2024 & 249 & 0.417671 \\\\\n",
       "\t2 & 621242 & 14710 & Edwin Díaz & NYM & 30 & 2024 & 216 & 0.388889 \\\\\n",
       "\t3 & 518585 & 7048 & Fernando Cruz & CIN & 34 & 2024 & 288 & 0.378472 \\\\\n",
       "\t4 & 623352 & 14212 & Josh Hader & HOU & 30 & 2024 & 278 & 0.377698 \\\\\n",
       "\t5 & 663574 & 19926 & Tony Santillan & CIN & 27 & 2024 & 122 & 0.377049 \\\\\n",
       "\\end{tabular}\n"
      ],
      "text/plain": [
       "\u001b[1m5×8 DataFrame\u001b[0m\n",
       "\u001b[1m Row \u001b[0m│\u001b[1m MLBAMID \u001b[0m\u001b[1m PlayerId \u001b[0m\u001b[1m Name           \u001b[0m\u001b[1m Team    \u001b[0m\u001b[1m Age   \u001b[0m\u001b[1m Season \u001b[0m\u001b[1m TBF   \u001b[0m\u001b[1m K%   \u001b[0m ⋯\n",
       "     │\u001b[90m Int64   \u001b[0m\u001b[90m Int64    \u001b[0m\u001b[90m String31       \u001b[0m\u001b[90m String7 \u001b[0m\u001b[90m Int64 \u001b[0m\u001b[90m Int64  \u001b[0m\u001b[90m Int64 \u001b[0m\u001b[90m Float\u001b[0m ⋯\n",
       "─────┼──────────────────────────────────────────────────────────────────────────\n",
       "   1 │  695243     31757  Mason Miller    OAK         25    2024    249  0.417 ⋯\n",
       "   2 │  621242     14710  Edwin Díaz      NYM         30    2024    216  0.388\n",
       "   3 │  518585      7048  Fernando Cruz   CIN         34    2024    288  0.378\n",
       "   4 │  623352     14212  Josh Hader      HOU         30    2024    278  0.377\n",
       "   5 │  663574     19926  Tony Santillan  CIN         27    2024    122  0.377 ⋯\n",
       "\u001b[36m                                                                1 column omitted\u001b[0m"
      ]
     },
     "metadata": {},
     "output_type": "display_data"
    }
   ],
   "source": [
    "df = CSV.read(\"k.csv\", DataFrame)\n",
    "first(df, 5)"
   ]
  },
  {
   "cell_type": "code",
   "execution_count": 4,
   "id": "ea266ef9",
   "metadata": {},
   "outputs": [
    {
     "data": {
      "text/html": [
       "<div><div style = \"float: left;\"><span>8×7 DataFrame</span></div><div style = \"clear: both;\"></div></div><div class = \"data-frame\" style = \"overflow-x: scroll;\"><table class = \"data-frame\" style = \"margin-bottom: 6px;\"><thead><tr class = \"header\"><th class = \"rowNumber\" style = \"font-weight: bold; text-align: right;\">Row</th><th style = \"text-align: left;\">variable</th><th style = \"text-align: left;\">mean</th><th style = \"text-align: left;\">min</th><th style = \"text-align: left;\">median</th><th style = \"text-align: left;\">max</th><th style = \"text-align: left;\">nmissing</th><th style = \"text-align: left;\">eltype</th></tr><tr class = \"subheader headerLastRow\"><th class = \"rowNumber\" style = \"font-weight: bold; text-align: right;\"></th><th title = \"Symbol\" style = \"text-align: left;\">Symbol</th><th title = \"Union{Nothing, Float64}\" style = \"text-align: left;\">Union…</th><th title = \"Any\" style = \"text-align: left;\">Any</th><th title = \"Union{Nothing, Float64}\" style = \"text-align: left;\">Union…</th><th title = \"Any\" style = \"text-align: left;\">Any</th><th title = \"Int64\" style = \"text-align: left;\">Int64</th><th title = \"DataType\" style = \"text-align: left;\">DataType</th></tr></thead><tbody><tr><td class = \"rowNumber\" style = \"font-weight: bold; text-align: right;\">1</td><td style = \"text-align: left;\">MLBAMID</td><td style = \"text-align: left;\">6.20025e5</td><td style = \"text-align: left;\">425794</td><td style = \"text-align: left;\">641712.0</td><td style = \"text-align: left;\">808967</td><td style = \"text-align: right;\">0</td><td style = \"text-align: left;\">Int64</td></tr><tr><td class = \"rowNumber\" style = \"font-weight: bold; text-align: right;\">2</td><td style = \"text-align: left;\">PlayerId</td><td style = \"text-align: left;\">17062.8</td><td style = \"text-align: left;\">1246</td><td style = \"text-align: left;\">17485.0</td><td style = \"text-align: left;\">33876</td><td style = \"text-align: right;\">0</td><td style = \"text-align: left;\">Int64</td></tr><tr><td class = \"rowNumber\" style = \"font-weight: bold; text-align: right;\">3</td><td style = \"text-align: left;\">Name</td><td style = \"font-style: italic; text-align: left;\"></td><td style = \"text-align: left;\">A.J. Minter</td><td style = \"font-style: italic; text-align: left;\"></td><td style = \"text-align: left;\">Zebby Matthews</td><td style = \"text-align: right;\">0</td><td style = \"text-align: left;\">String31</td></tr><tr><td class = \"rowNumber\" style = \"font-weight: bold; text-align: right;\">4</td><td style = \"text-align: left;\">Team</td><td style = \"font-style: italic; text-align: left;\"></td><td style = \"text-align: left;\">- - -</td><td style = \"font-style: italic; text-align: left;\"></td><td style = \"text-align: left;\">WSN</td><td style = \"text-align: right;\">0</td><td style = \"text-align: left;\">String7</td></tr><tr><td class = \"rowNumber\" style = \"font-weight: bold; text-align: right;\">5</td><td style = \"text-align: left;\">Age</td><td style = \"text-align: left;\">28.7405</td><td style = \"text-align: left;\">20</td><td style = \"text-align: left;\">28.0</td><td style = \"text-align: left;\">43</td><td style = \"text-align: right;\">0</td><td style = \"text-align: left;\">Int64</td></tr><tr><td class = \"rowNumber\" style = \"font-weight: bold; text-align: right;\">6</td><td style = \"text-align: left;\">Season</td><td style = \"text-align: left;\">2022.5</td><td style = \"text-align: left;\">2021</td><td style = \"text-align: left;\">2023.0</td><td style = \"text-align: left;\">2024</td><td style = \"text-align: right;\">0</td><td style = \"text-align: left;\">Int64</td></tr><tr><td class = \"rowNumber\" style = \"font-weight: bold; text-align: right;\">7</td><td style = \"text-align: left;\">TBF</td><td style = \"text-align: left;\">344.901</td><td style = \"text-align: left;\">115</td><td style = \"text-align: left;\">268.0</td><td style = \"text-align: left;\">886</td><td style = \"text-align: right;\">0</td><td style = \"text-align: left;\">Int64</td></tr><tr><td class = \"rowNumber\" style = \"font-weight: bold; text-align: right;\">8</td><td style = \"text-align: left;\">K%</td><td style = \"text-align: left;\">0.232229</td><td style = \"text-align: left;\">0.0914634</td><td style = \"text-align: left;\">0.22836</td><td style = \"text-align: left;\">0.502128</td><td style = \"text-align: right;\">0</td><td style = \"text-align: left;\">Float64</td></tr></tbody></table></div>"
      ],
      "text/latex": [
       "\\begin{tabular}{r|ccccccc}\n",
       "\t& variable & mean & min & median & max & nmissing & eltype\\\\\n",
       "\t\\hline\n",
       "\t& Symbol & Union… & Any & Union… & Any & Int64 & DataType\\\\\n",
       "\t\\hline\n",
       "\t1 & MLBAMID & 6.20025e5 & 425794 & 641712.0 & 808967 & 0 & Int64 \\\\\n",
       "\t2 & PlayerId & 17062.8 & 1246 & 17485.0 & 33876 & 0 & Int64 \\\\\n",
       "\t3 & Name &  & A.J. Minter &  & Zebby Matthews & 0 & String31 \\\\\n",
       "\t4 & Team &  & - - - &  & WSN & 0 & String7 \\\\\n",
       "\t5 & Age & 28.7405 & 20 & 28.0 & 43 & 0 & Int64 \\\\\n",
       "\t6 & Season & 2022.5 & 2021 & 2023.0 & 2024 & 0 & Int64 \\\\\n",
       "\t7 & TBF & 344.901 & 115 & 268.0 & 886 & 0 & Int64 \\\\\n",
       "\t8 & K\\% & 0.232229 & 0.0914634 & 0.22836 & 0.502128 & 0 & Float64 \\\\\n",
       "\\end{tabular}\n"
      ],
      "text/plain": [
       "\u001b[1m8×7 DataFrame\u001b[0m\n",
       "\u001b[1m Row \u001b[0m│\u001b[1m variable \u001b[0m\u001b[1m mean      \u001b[0m\u001b[1m min         \u001b[0m\u001b[1m median   \u001b[0m\u001b[1m max            \u001b[0m\u001b[1m nmissing \u001b[0m\u001b[1m e\u001b[0m ⋯\n",
       "     │\u001b[90m Symbol   \u001b[0m\u001b[90m Union…    \u001b[0m\u001b[90m Any         \u001b[0m\u001b[90m Union…   \u001b[0m\u001b[90m Any            \u001b[0m\u001b[90m Int64    \u001b[0m\u001b[90m D\u001b[0m ⋯\n",
       "─────┼──────────────────────────────────────────────────────────────────────────\n",
       "   1 │ MLBAMID   6.20025e5  425794       641712.0  808967                 0  I ⋯\n",
       "   2 │ PlayerId  17062.8    1246         17485.0   33876                  0  I\n",
       "   3 │ Name     \u001b[90m           \u001b[0m A.J. Minter \u001b[90m          \u001b[0m Zebby Matthews         0  S\n",
       "   4 │ Team     \u001b[90m           \u001b[0m - - -       \u001b[90m          \u001b[0m WSN                    0  S\n",
       "   5 │ Age       28.7405    20           28.0      43                     0  I ⋯\n",
       "   6 │ Season    2022.5     2021         2023.0    2024                   0  I\n",
       "   7 │ TBF       344.901    115          268.0     886                    0  I\n",
       "   8 │ K%        0.232229   0.0914634    0.22836   0.502128               0  F\n",
       "\u001b[36m                                                                1 column omitted\u001b[0m"
      ]
     },
     "metadata": {},
     "output_type": "display_data"
    }
   ],
   "source": [
    "describe(df)\n",
    "# names(df)"
   ]
  },
  {
   "cell_type": "markdown",
   "metadata": {},
   "source": [
    "## Preprocess Data\n",
    "- We sort by season and player\n",
    "- We compute lagged K% and TBF\n",
    "- We exclude rows with missing historical data (e.g., rookies)"
   ]
  },
  {
   "cell_type": "code",
   "execution_count": 5,
   "id": "a21863ce",
   "metadata": {},
   "outputs": [
    {
     "data": {
      "text/html": [
       "<div><div style = \"float: left;\"><span>1892×8 DataFrame</span></div><div style = \"float: right;\"><span style = \"font-style: italic;\">1867 rows omitted</span></div><div style = \"clear: both;\"></div></div><div class = \"data-frame\" style = \"overflow-x: scroll;\"><table class = \"data-frame\" style = \"margin-bottom: 6px;\"><thead><tr class = \"header\"><th class = \"rowNumber\" style = \"font-weight: bold; text-align: right;\">Row</th><th style = \"text-align: left;\">MLBAMID</th><th style = \"text-align: left;\">PlayerId</th><th style = \"text-align: left;\">Name</th><th style = \"text-align: left;\">Team</th><th style = \"text-align: left;\">Age</th><th style = \"text-align: left;\">Season</th><th style = \"text-align: left;\">TBF</th><th style = \"text-align: left;\">K</th></tr><tr class = \"subheader headerLastRow\"><th class = \"rowNumber\" style = \"font-weight: bold; text-align: right;\"></th><th title = \"Int64\" style = \"text-align: left;\">Int64</th><th title = \"Int64\" style = \"text-align: left;\">Int64</th><th title = \"String31\" style = \"text-align: left;\">String31</th><th title = \"String7\" style = \"text-align: left;\">String7</th><th title = \"Int64\" style = \"text-align: left;\">Int64</th><th title = \"Int64\" style = \"text-align: left;\">Int64</th><th title = \"Int64\" style = \"text-align: left;\">Int64</th><th title = \"Float64\" style = \"text-align: left;\">Float64</th></tr></thead><tbody><tr><td class = \"rowNumber\" style = \"font-weight: bold; text-align: right;\">1</td><td style = \"text-align: right;\">695243</td><td style = \"text-align: right;\">31757</td><td style = \"text-align: left;\">Mason Miller</td><td style = \"text-align: left;\">OAK</td><td style = \"text-align: right;\">25</td><td style = \"text-align: right;\">2024</td><td style = \"text-align: right;\">249</td><td style = \"text-align: right;\">0.417671</td></tr><tr><td class = \"rowNumber\" style = \"font-weight: bold; text-align: right;\">2</td><td style = \"text-align: right;\">621242</td><td style = \"text-align: right;\">14710</td><td style = \"text-align: left;\">Edwin Díaz</td><td style = \"text-align: left;\">NYM</td><td style = \"text-align: right;\">30</td><td style = \"text-align: right;\">2024</td><td style = \"text-align: right;\">216</td><td style = \"text-align: right;\">0.388889</td></tr><tr><td class = \"rowNumber\" style = \"font-weight: bold; text-align: right;\">3</td><td style = \"text-align: right;\">518585</td><td style = \"text-align: right;\">7048</td><td style = \"text-align: left;\">Fernando Cruz</td><td style = \"text-align: left;\">CIN</td><td style = \"text-align: right;\">34</td><td style = \"text-align: right;\">2024</td><td style = \"text-align: right;\">288</td><td style = \"text-align: right;\">0.378472</td></tr><tr><td class = \"rowNumber\" style = \"font-weight: bold; text-align: right;\">4</td><td style = \"text-align: right;\">623352</td><td style = \"text-align: right;\">14212</td><td style = \"text-align: left;\">Josh Hader</td><td style = \"text-align: left;\">HOU</td><td style = \"text-align: right;\">30</td><td style = \"text-align: right;\">2024</td><td style = \"text-align: right;\">278</td><td style = \"text-align: right;\">0.377698</td></tr><tr><td class = \"rowNumber\" style = \"font-weight: bold; text-align: right;\">5</td><td style = \"text-align: right;\">663574</td><td style = \"text-align: right;\">19926</td><td style = \"text-align: left;\">Tony Santillan</td><td style = \"text-align: left;\">CIN</td><td style = \"text-align: right;\">27</td><td style = \"text-align: right;\">2024</td><td style = \"text-align: right;\">122</td><td style = \"text-align: right;\">0.377049</td></tr><tr><td class = \"rowNumber\" style = \"font-weight: bold; text-align: right;\">6</td><td style = \"text-align: right;\">669093</td><td style = \"text-align: right;\">22210</td><td style = \"text-align: left;\">Jeremiah Estrada</td><td style = \"text-align: left;\">SDP</td><td style = \"text-align: right;\">25</td><td style = \"text-align: right;\">2024</td><td style = \"text-align: right;\">252</td><td style = \"text-align: right;\">0.373016</td></tr><tr><td class = \"rowNumber\" style = \"font-weight: bold; text-align: right;\">7</td><td style = \"text-align: right;\">547973</td><td style = \"text-align: right;\">10233</td><td style = \"text-align: left;\">Aroldis Chapman</td><td style = \"text-align: left;\">PIT</td><td style = \"text-align: right;\">36</td><td style = \"text-align: right;\">2024</td><td style = \"text-align: right;\">265</td><td style = \"text-align: right;\">0.369811</td></tr><tr><td class = \"rowNumber\" style = \"font-weight: bold; text-align: right;\">8</td><td style = \"text-align: right;\">671305</td><td style = \"text-align: right;\">22533</td><td style = \"text-align: left;\">Michel Otañez</td><td style = \"text-align: left;\">OAK</td><td style = \"text-align: right;\">26</td><td style = \"text-align: right;\">2024</td><td style = \"text-align: right;\">151</td><td style = \"text-align: right;\">0.364238</td></tr><tr><td class = \"rowNumber\" style = \"font-weight: bold; text-align: right;\">9</td><td style = \"text-align: right;\">489446</td><td style = \"text-align: right;\">9073</td><td style = \"text-align: left;\">Kirby Yates</td><td style = \"text-align: left;\">TEX</td><td style = \"text-align: right;\">37</td><td style = \"text-align: right;\">2024</td><td style = \"text-align: right;\">237</td><td style = \"text-align: right;\">0.35865</td></tr><tr><td class = \"rowNumber\" style = \"font-weight: bold; text-align: right;\">10</td><td style = \"text-align: right;\">670955</td><td style = \"text-align: right;\">20539</td><td style = \"text-align: left;\">Edwin Uceta</td><td style = \"text-align: left;\">TBR</td><td style = \"text-align: right;\">26</td><td style = \"text-align: right;\">2024</td><td style = \"text-align: right;\">159</td><td style = \"text-align: right;\">0.358491</td></tr><tr><td class = \"rowNumber\" style = \"font-weight: bold; text-align: right;\">11</td><td style = \"text-align: right;\">671922</td><td style = \"text-align: right;\">27867</td><td style = \"text-align: left;\">Cade Smith</td><td style = \"text-align: left;\">CLE</td><td style = \"text-align: right;\">25</td><td style = \"text-align: right;\">2024</td><td style = \"text-align: right;\">289</td><td style = \"text-align: right;\">0.356401</td></tr><tr><td class = \"rowNumber\" style = \"font-weight: bold; text-align: right;\">12</td><td style = \"text-align: right;\">673380</td><td style = \"text-align: right;\">23055</td><td style = \"text-align: left;\">Dedniel Núñez</td><td style = \"text-align: left;\">NYM</td><td style = \"text-align: right;\">28</td><td style = \"text-align: right;\">2024</td><td style = \"text-align: right;\">135</td><td style = \"text-align: right;\">0.355556</td></tr><tr><td class = \"rowNumber\" style = \"font-weight: bold; text-align: right;\">13</td><td style = \"text-align: right;\">676979</td><td style = \"text-align: right;\">27463</td><td style = \"text-align: left;\">Garrett Crochet</td><td style = \"text-align: left;\">CHW</td><td style = \"text-align: right;\">25</td><td style = \"text-align: right;\">2024</td><td style = \"text-align: right;\">595</td><td style = \"text-align: right;\">0.35126</td></tr><tr><td style = \"text-align: right;\">&vellip;</td><td style = \"text-align: right;\">&vellip;</td><td style = \"text-align: right;\">&vellip;</td><td style = \"text-align: right;\">&vellip;</td><td style = \"text-align: right;\">&vellip;</td><td style = \"text-align: right;\">&vellip;</td><td style = \"text-align: right;\">&vellip;</td><td style = \"text-align: right;\">&vellip;</td><td style = \"text-align: right;\">&vellip;</td></tr><tr><td class = \"rowNumber\" style = \"font-weight: bold; text-align: right;\">1881</td><td style = \"text-align: right;\">657093</td><td style = \"text-align: right;\">17489</td><td style = \"text-align: left;\">Spenser Watkins</td><td style = \"text-align: left;\">BAL</td><td style = \"text-align: right;\">28</td><td style = \"text-align: right;\">2021</td><td style = \"text-align: right;\">255</td><td style = \"text-align: right;\">0.137255</td></tr><tr><td class = \"rowNumber\" style = \"font-weight: bold; text-align: right;\">1882</td><td style = \"text-align: right;\">685503</td><td style = \"text-align: right;\">27505</td><td style = \"text-align: left;\">Kohei Arihara</td><td style = \"text-align: left;\">TEX</td><td style = \"text-align: right;\">28</td><td style = \"text-align: right;\">2021</td><td style = \"text-align: right;\">178</td><td style = \"text-align: right;\">0.134831</td></tr><tr><td class = \"rowNumber\" style = \"font-weight: bold; text-align: right;\">1883</td><td style = \"text-align: right;\">663734</td><td style = \"text-align: right;\">18699</td><td style = \"text-align: left;\">Nick Neidert</td><td style = \"text-align: left;\">MIA</td><td style = \"text-align: right;\">24</td><td style = \"text-align: right;\">2021</td><td style = \"text-align: right;\">157</td><td style = \"text-align: right;\">0.133758</td></tr><tr><td class = \"rowNumber\" style = \"font-weight: bold; text-align: right;\">1884</td><td style = \"text-align: right;\">649144</td><td style = \"text-align: right;\">19845</td><td style = \"text-align: left;\">Alex Wells</td><td style = \"text-align: left;\">BAL</td><td style = \"text-align: right;\">24</td><td style = \"text-align: right;\">2021</td><td style = \"text-align: right;\">197</td><td style = \"text-align: right;\">0.13198</td></tr><tr><td class = \"rowNumber\" style = \"font-weight: bold; text-align: right;\">1885</td><td style = \"text-align: right;\">572971</td><td style = \"text-align: right;\">9434</td><td style = \"text-align: left;\">Dallas Keuchel</td><td style = \"text-align: left;\">CHW</td><td style = \"text-align: right;\">33</td><td style = \"text-align: right;\">2021</td><td style = \"text-align: right;\">720</td><td style = \"text-align: right;\">0.131944</td></tr><tr><td class = \"rowNumber\" style = \"font-weight: bold; text-align: right;\">1886</td><td style = \"text-align: right;\">453281</td><td style = \"text-align: right;\">5221</td><td style = \"text-align: left;\">Wade LeBlanc</td><td style = \"text-align: left;\">- - -</td><td style = \"text-align: right;\">36</td><td style = \"text-align: right;\">2021</td><td style = \"text-align: right;\">221</td><td style = \"text-align: right;\">0.131222</td></tr><tr><td class = \"rowNumber\" style = \"font-weight: bold; text-align: right;\">1887</td><td style = \"text-align: right;\">676840</td><td style = \"text-align: right;\">20339</td><td style = \"text-align: left;\">Matt Peacock</td><td style = \"text-align: left;\">ARI</td><td style = \"text-align: right;\">27</td><td style = \"text-align: right;\">2021</td><td style = \"text-align: right;\">386</td><td style = \"text-align: right;\">0.129534</td></tr><tr><td class = \"rowNumber\" style = \"font-weight: bold; text-align: right;\">1888</td><td style = \"text-align: right;\">592346</td><td style = \"text-align: right;\">14663</td><td style = \"text-align: left;\">Chi Chi González</td><td style = \"text-align: left;\">COL</td><td style = \"text-align: right;\">29</td><td style = \"text-align: right;\">2021</td><td style = \"text-align: right;\">448</td><td style = \"text-align: right;\">0.125</td></tr><tr><td class = \"rowNumber\" style = \"font-weight: bold; text-align: right;\">1889</td><td style = \"text-align: right;\">642092</td><td style = \"text-align: right;\">19826</td><td style = \"text-align: left;\">Riley Smith</td><td style = \"text-align: left;\">ARI</td><td style = \"text-align: right;\">26</td><td style = \"text-align: right;\">2021</td><td style = \"text-align: right;\">301</td><td style = \"text-align: right;\">0.119601</td></tr><tr><td class = \"rowNumber\" style = \"font-weight: bold; text-align: right;\">1890</td><td style = \"text-align: right;\">677976</td><td style = \"text-align: right;\">23798</td><td style = \"text-align: left;\">Randy Dobnak</td><td style = \"text-align: left;\">MIN</td><td style = \"text-align: right;\">26</td><td style = \"text-align: right;\">2021</td><td style = \"text-align: right;\">228</td><td style = \"text-align: right;\">0.118421</td></tr><tr><td class = \"rowNumber\" style = \"font-weight: bold; text-align: right;\">1891</td><td style = \"text-align: right;\">433589</td><td style = \"text-align: right;\">4020</td><td style = \"text-align: left;\">Yusmeiro Petit</td><td style = \"text-align: left;\">OAK</td><td style = \"text-align: right;\">36</td><td style = \"text-align: right;\">2021</td><td style = \"text-align: right;\">313</td><td style = \"text-align: right;\">0.118211</td></tr><tr><td class = \"rowNumber\" style = \"font-weight: bold; text-align: right;\">1892</td><td style = \"text-align: right;\">656212</td><td style = \"text-align: right;\">19865</td><td style = \"text-align: left;\">Charlie Barnes</td><td style = \"text-align: left;\">MIN</td><td style = \"text-align: right;\">25</td><td style = \"text-align: right;\">2021</td><td style = \"text-align: right;\">175</td><td style = \"text-align: right;\">0.114286</td></tr></tbody></table></div>"
      ],
      "text/latex": [
       "\\begin{tabular}{r|cccccccc}\n",
       "\t& MLBAMID & PlayerId & Name & Team & Age & Season & TBF & K\\\\\n",
       "\t\\hline\n",
       "\t& Int64 & Int64 & String31 & String7 & Int64 & Int64 & Int64 & Float64\\\\\n",
       "\t\\hline\n",
       "\t1 & 695243 & 31757 & Mason Miller & OAK & 25 & 2024 & 249 & 0.417671 \\\\\n",
       "\t2 & 621242 & 14710 & Edwin Díaz & NYM & 30 & 2024 & 216 & 0.388889 \\\\\n",
       "\t3 & 518585 & 7048 & Fernando Cruz & CIN & 34 & 2024 & 288 & 0.378472 \\\\\n",
       "\t4 & 623352 & 14212 & Josh Hader & HOU & 30 & 2024 & 278 & 0.377698 \\\\\n",
       "\t5 & 663574 & 19926 & Tony Santillan & CIN & 27 & 2024 & 122 & 0.377049 \\\\\n",
       "\t6 & 669093 & 22210 & Jeremiah Estrada & SDP & 25 & 2024 & 252 & 0.373016 \\\\\n",
       "\t7 & 547973 & 10233 & Aroldis Chapman & PIT & 36 & 2024 & 265 & 0.369811 \\\\\n",
       "\t8 & 671305 & 22533 & Michel Otañez & OAK & 26 & 2024 & 151 & 0.364238 \\\\\n",
       "\t9 & 489446 & 9073 & Kirby Yates & TEX & 37 & 2024 & 237 & 0.35865 \\\\\n",
       "\t10 & 670955 & 20539 & Edwin Uceta & TBR & 26 & 2024 & 159 & 0.358491 \\\\\n",
       "\t11 & 671922 & 27867 & Cade Smith & CLE & 25 & 2024 & 289 & 0.356401 \\\\\n",
       "\t12 & 673380 & 23055 & Dedniel Núñez & NYM & 28 & 2024 & 135 & 0.355556 \\\\\n",
       "\t13 & 676979 & 27463 & Garrett Crochet & CHW & 25 & 2024 & 595 & 0.35126 \\\\\n",
       "\t14 & 605483 & 13543 & Blake Snell & SFG & 31 & 2024 & 418 & 0.34689 \\\\\n",
       "\t15 & 643377 & 20253 & Griffin Jax & MIN & 29 & 2024 & 276 & 0.344203 \\\\\n",
       "\t16 & 664776 & 21620 & Jake Cousins & NYY & 29 & 2024 & 155 & 0.341935 \\\\\n",
       "\t17 & 657585 & 16866 & Reed Garrett & NYM & 31 & 2024 & 247 & 0.336032 \\\\\n",
       "\t18 & 643410 & 15551 & Mark Leiter Jr. & - - - & 33 & 2024 & 256 & 0.335938 \\\\\n",
       "\t19 & 656546 & 17432 & Jeff Hoffman & PHI & 31 & 2024 & 265 & 0.335849 \\\\\n",
       "\t20 & 621114 & 17536 & Ryan Burr & TOR & 30 & 2024 & 140 & 0.335714 \\\\\n",
       "\t21 & 502085 & 8241 & David Robertson & TEX & 39 & 2024 & 296 & 0.334459 \\\\\n",
       "\t22 & 592662 & 11486 & Robbie Ray & SFG & 32 & 2024 & 129 & 0.333333 \\\\\n",
       "\t23 & 621381 & 13799 & Matt Strahm & PHI & 32 & 2024 & 237 & 0.333333 \\\\\n",
       "\t24 & 677053 & 25942 & Andrew Nardi & MIA & 25 & 2024 & 210 & 0.333333 \\\\\n",
       "\t$\\dots$ & $\\dots$ & $\\dots$ & $\\dots$ & $\\dots$ & $\\dots$ & $\\dots$ & $\\dots$ & $\\dots$ \\\\\n",
       "\\end{tabular}\n"
      ],
      "text/plain": [
       "\u001b[1m1892×8 DataFrame\u001b[0m\n",
       "\u001b[1m  Row \u001b[0m│\u001b[1m MLBAMID \u001b[0m\u001b[1m PlayerId \u001b[0m\u001b[1m Name             \u001b[0m\u001b[1m Team    \u001b[0m\u001b[1m Age   \u001b[0m\u001b[1m Season \u001b[0m\u001b[1m TBF   \u001b[0m\u001b[1m K \u001b[0m ⋯\n",
       "      │\u001b[90m Int64   \u001b[0m\u001b[90m Int64    \u001b[0m\u001b[90m String31         \u001b[0m\u001b[90m String7 \u001b[0m\u001b[90m Int64 \u001b[0m\u001b[90m Int64  \u001b[0m\u001b[90m Int64 \u001b[0m\u001b[90m Fl\u001b[0m ⋯\n",
       "──────┼─────────────────────────────────────────────────────────────────────────\n",
       "    1 │  695243     31757  Mason Miller      OAK         25    2024    249  0. ⋯\n",
       "    2 │  621242     14710  Edwin Díaz        NYM         30    2024    216  0.\n",
       "    3 │  518585      7048  Fernando Cruz     CIN         34    2024    288  0.\n",
       "    4 │  623352     14212  Josh Hader        HOU         30    2024    278  0.\n",
       "    5 │  663574     19926  Tony Santillan    CIN         27    2024    122  0. ⋯\n",
       "    6 │  669093     22210  Jeremiah Estrada  SDP         25    2024    252  0.\n",
       "    7 │  547973     10233  Aroldis Chapman   PIT         36    2024    265  0.\n",
       "    8 │  671305     22533  Michel Otañez     OAK         26    2024    151  0.\n",
       "  ⋮   │    ⋮        ⋮             ⋮             ⋮       ⋮      ⋮       ⋮       ⋱\n",
       " 1886 │  453281      5221  Wade LeBlanc      - - -       36    2021    221  0. ⋯\n",
       " 1887 │  676840     20339  Matt Peacock      ARI         27    2021    386  0.\n",
       " 1888 │  592346     14663  Chi Chi González  COL         29    2021    448  0.\n",
       " 1889 │  642092     19826  Riley Smith       ARI         26    2021    301  0.\n",
       " 1890 │  677976     23798  Randy Dobnak      MIN         26    2021    228  0. ⋯\n",
       " 1891 │  433589      4020  Yusmeiro Petit    OAK         36    2021    313  0.\n",
       " 1892 │  656212     19865  Charlie Barnes    MIN         25    2021    175  0.\n",
       "\u001b[36m                                                  1 column and 1877 rows omitted\u001b[0m"
      ]
     },
     "metadata": {},
     "output_type": "display_data"
    }
   ],
   "source": [
    "rename!(df, Symbol(\"K%\") => :K)"
   ]
  },
  {
   "cell_type": "code",
   "execution_count": 7,
   "metadata": {},
   "outputs": [
    {
     "data": {
      "text/plain": [
       "1029-element BitVector:\n",
       " 0\n",
       " 0\n",
       " 0\n",
       " 0\n",
       " 0\n",
       " 0\n",
       " 0\n",
       " 1\n",
       " 0\n",
       " 0\n",
       " ⋮\n",
       " 0\n",
       " 0\n",
       " 0\n",
       " 0\n",
       " 0\n",
       " 0\n",
       " 0\n",
       " 0\n",
       " 0"
      ]
     },
     "metadata": {},
     "output_type": "display_data"
    }
   ],
   "source": [
    "# Sort the DataFrame to ensure proper ordering within each player group\n",
    "sort!(df, [:MLBAMID, :Season])\n",
    "\n",
    "# Initialize new columns with missing values\n",
    "df[!, :K_prev] = Vector{Union{Missing, Float64}}(missing, nrow(df))\n",
    "df[!, :TBF_prev] = Vector{Union{Missing, Int64}}(missing, nrow(df))\n",
    "\n",
    "# Fill previous season's K% and TBF for each pitcher\n",
    "for g in groupby(df, :MLBAMID)\n",
    "    global_indices = findall(x -> x in g.MLBAMID, df.MLBAMID)\n",
    "    for i in 2:nrow(g)\n",
    "        curr_idx = global_indices[i]\n",
    "        prev_idx = global_indices[i - 1]\n",
    "\n",
    "        df[!, :K_prev][curr_idx] = df[!, :K][prev_idx]\n",
    "        df[!, :TBF_prev][curr_idx] = df[!, :TBF][prev_idx]\n",
    "    end\n",
    "end\n",
    "\n",
    "# Drop rows that don’t have lagged values (e.g. rookies or first-year records)\n",
    "df_model = dropmissing(df, [:K_prev, :TBF_prev])\n",
    "\n",
    "# Add derived features\n",
    "df_model[!, :ΔK] = df_model.K .- df_model.K_prev\n",
    "df_model[!, :is_relief] = df_model.TBF .< 200"
   ]
  },
  {
   "cell_type": "markdown",
   "id": "deeda755",
   "metadata": {},
   "source": [
    "### Scatter Plot of Features"
   ]
  },
  {
   "cell_type": "code",
   "execution_count": 6,
   "id": "0472ec67",
   "metadata": {},
   "outputs": [
    {
     "ename": "UndefVarError",
     "evalue": "UndefVarError: `df_model` not defined in `Main`\nSuggestion: check for spelling errors or missing imports.",
     "output_type": "error",
     "traceback": [
      "UndefVarError: `df_model` not defined in `Main`\n",
      "Suggestion: check for spelling errors or missing imports.\n",
      "\n",
      "Stacktrace:\n",
      " [1] top-level scope\n",
      "   @ ~/git/QuantAnalysisAssets/phillies_takehome/jl_notebook_cell_df34fa98e69747e1a8f8a730347b8e2f_X13sZmlsZQ==.jl:1"
     ]
    }
   ],
   "source": [
    "@df df_model scatter(\n",
    "    :TBF_prev, :ΔK,\n",
    "    xlabel = \"TBF (Previous Season)\",\n",
    "    ylabel = \"Change in K%\",\n",
    "    title = \"TBF vs. ΔK — Pitcher Improvement by Workload\",\n",
    "    alpha = 0.6,\n",
    "    legend = false\n",
    ")"
   ]
  },
  {
   "cell_type": "markdown",
   "metadata": {},
   "source": [
    "## Target and Features\n",
    "- Target: K% for current season\n",
    "- Features: prior K%, prior TBF, age"
   ]
  },
  {
   "cell_type": "code",
   "execution_count": 8,
   "metadata": {},
   "outputs": [
    {
     "data": {
      "text/plain": [
       "1029-element Vector{Float64}:\n",
       " 0.17808219\n",
       " 0.11363636\n",
       " 0.12478632\n",
       " 0.16357504\n",
       " 0.21524664\n",
       " 0.18686869\n",
       " 0.32692308\n",
       " 0.27659574\n",
       " 0.28440367\n",
       " 0.25342466\n",
       " ⋮\n",
       " 0.22180451\n",
       " 0.21398305\n",
       " 0.17486339\n",
       " 0.20353982\n",
       " 0.24342105\n",
       " 0.17445483\n",
       " 0.2\n",
       " 0.41767068\n",
       " 0.19811321"
      ]
     },
     "metadata": {},
     "output_type": "display_data"
    }
   ],
   "source": [
    "# Step 1: Create unique list of players\n",
    "unique_players = unique(df_model.MLBAMID)\n",
    "\n",
    "# Step 2: Create a lookup table mapping each player ID to an index\n",
    "player_lookup = Dict(pid => i for (i, pid) in enumerate(unique_players))\n",
    "\n",
    "# Step 3: Create player_index by mapping each row's MLBAMID to its index\n",
    "player_index = [player_lookup[pid] for pid in df_model.MLBAMID]\n",
    "\n",
    "# X features to use for now\n",
    "X = select(df_model, [:K_prev, :TBF_prev, :Age]) |> Matrix\n",
    "\n",
    "# y target\n",
    "y = df_model.K |> collect\n",
    "\n",
    "# player_index is now ready\n",
    "# -> use it in: θ[player_index]"
   ]
  },
  {
   "cell_type": "code",
   "execution_count": 9,
   "id": "7bff558e",
   "metadata": {},
   "outputs": [
    {
     "data": {
      "text/plain": [
       "1029-element Vector{Float64}:\n",
       " 0.17808219\n",
       " 0.11363636\n",
       " 0.12478632\n",
       " 0.16357504\n",
       " 0.21524664\n",
       " 0.18686869\n",
       " 0.32692308\n",
       " 0.27659574\n",
       " 0.28440367\n",
       " 0.25342466\n",
       " ⋮\n",
       " 0.22180451\n",
       " 0.21398305\n",
       " 0.17486339\n",
       " 0.20353982\n",
       " 0.24342105\n",
       " 0.17445483\n",
       " 0.2\n",
       " 0.41767068\n",
       " 0.19811321"
      ]
     },
     "metadata": {},
     "output_type": "display_data"
    }
   ],
   "source": [
    "X_df = select(df_model, [:K_prev, :TBF_prev, :Age])\n",
    "y_vec = df_model.K"
   ]
  },
  {
   "cell_type": "code",
   "execution_count": 10,
   "id": "e2d1e2b4",
   "metadata": {},
   "outputs": [
    {
     "ename": "UndefVarError",
     "evalue": "UndefVarError: `RidgeRegressor` not defined in `Main`\nSuggestion: check for spelling errors or missing imports.",
     "output_type": "error",
     "traceback": [
      "UndefVarError: `RidgeRegressor` not defined in `Main`\n",
      "Suggestion: check for spelling errors or missing imports.\n",
      "\n",
      "Stacktrace:\n",
      " [1] top-level scope\n",
      "   @ ~/git/QuantAnalysisAssets/phillies_takehome/jl_notebook_cell_df34fa98e69747e1a8f8a730347b8e2f_X31sZmlsZQ==.jl:1"
     ]
    }
   ],
   "source": [
    "model = RidgeRegressor(lambda=0.1)  # You can tune this\n",
    "mach = machine(model, X_df, y_vec)\n",
    "fit!(mach)"
   ]
  },
  {
   "cell_type": "code",
   "execution_count": null,
   "id": "6543ed24",
   "metadata": {},
   "outputs": [],
   "source": [
    "y_pred = predict(mach, X_df)  # Returns vector of predicted K%\n",
    "df_model.K_pred = y_pred"
   ]
  },
  {
   "cell_type": "markdown",
   "metadata": {},
   "source": [
    "## Turing Model Definition\n",
    "We model K% as a function of prior stats, with player-level intercepts."
   ]
  },
  {
   "cell_type": "code",
   "execution_count": 71,
   "metadata": {},
   "outputs": [
    {
     "data": {
      "text/plain": [
       "k_predict_model (generic function with 2 methods)"
      ]
     },
     "metadata": {},
     "output_type": "display_data"
    }
   ],
   "source": [
    "@model function k_predict_model(X, y, player_idx)\n",
    "    N, D = size(X)\n",
    "    n_players = maximum(player_idx)\n",
    "\n",
    "    # μ = predicted K%\n",
    "    # β = linear model coefficients\n",
    "    # σ = residual stddev\n",
    "    # θ = player-specific effect\n",
    "\n",
    "    α ~ Normal(0, 1)\n",
    "    β ~ MvNormal(D, 1.0)\n",
    "    σ ~ Exponential(1.0)\n",
    "    θ_player ~ filldist(Normal(0, 1), n_players)\n",
    "\n",
    "    for i in 1:N\n",
    "        μ = α + θ_player[player_idx[i]] + dot(X[i, :], β)\n",
    "        y[i] ~ Normal(μ, σ)\n",
    "    end\n",
    "end"
   ]
  },
  {
   "cell_type": "markdown",
   "metadata": {},
   "source": [
    "## Fit the Model"
   ]
  },
  {
   "cell_type": "code",
   "execution_count": 10,
   "id": "c8d08bfa",
   "metadata": {},
   "outputs": [
    {
     "name": "stdout",
     "output_type": "stream",
     "text": [
      "nthreads() = 4\n"
     ]
    },
    {
     "data": {
      "text/plain": [
       "4"
      ]
     },
     "metadata": {},
     "output_type": "display_data"
    }
   ],
   "source": [
    "using Base.Threads\n",
    "@show nthreads()"
   ]
  },
  {
   "cell_type": "code",
   "execution_count": 11,
   "id": "2a557b55",
   "metadata": {},
   "outputs": [
    {
     "name": "stdout",
     "output_type": "stream",
     "text": [
      "Thread 1 alive\n",
      "Thread 3 alive\n",
      "Thread 2 alive\n",
      "Thread 4 alive\n"
     ]
    }
   ],
   "source": [
    "Threads.@threads for i in 1:Threads.nthreads()\n",
    "    println(\"Thread $i alive\")\n",
    "end"
   ]
  },
  {
   "cell_type": "code",
   "execution_count": null,
   "metadata": {},
   "outputs": [
    {
     "name": "stderr",
     "output_type": "stream",
     "text": [
      "\u001b[32mSampling (4 threads)   0%|                              |  ETA: N/A\u001b[39m\n",
      "┌ Info: Found initial step size\n",
      "│   ϵ = 0.000390625\n",
      "└ @ Turing.Inference /Users/ryanwilliams/.julia/packages/Turing/nQwbh/src/mcmc/hmc.jl:207\n",
      "┌ Info: Found initial step size\n",
      "│   ϵ = 0.000390625\n",
      "└ @ Turing.Inference /Users/ryanwilliams/.julia/packages/Turing/nQwbh/src/mcmc/hmc.jl:207\n",
      "┌ Info: Found initial step size\n",
      "│   ϵ = 0.000390625\n",
      "└ @ Turing.Inference /Users/ryanwilliams/.julia/packages/Turing/nQwbh/src/mcmc/hmc.jl:207\n",
      "┌ Info: Found initial step size\n",
      "│   ϵ = 4.8828125e-5\n",
      "└ @ Turing.Inference /Users/ryanwilliams/.julia/packages/Turing/nQwbh/src/mcmc/hmc.jl:207\n"
     ]
    }
   ],
   "source": [
    "model = k_predict_model(X, y, player_index)\n",
    "sampler = NUTS(adtype = AutoForwardDiff())\n",
    "chain = sample(model, sampler, MCMCThreads(), 1000, Threads.nthreads(); progress=true)"
   ]
  },
  {
   "cell_type": "markdown",
   "metadata": {},
   "source": [
    "## Posterior Check (optional)"
   ]
  },
  {
   "cell_type": "markdown",
   "id": "c05af666",
   "metadata": {},
   "source": []
  }
 ],
 "metadata": {
  "kernelspec": {
   "display_name": "Julia 1.11.5",
   "language": "julia",
   "name": "julia-1.11"
  },
  "language_info": {
   "file_extension": ".jl",
   "mimetype": "application/julia",
   "name": "julia",
   "version": "1.11.5"
  }
 },
 "nbformat": 4,
 "nbformat_minor": 5
}
