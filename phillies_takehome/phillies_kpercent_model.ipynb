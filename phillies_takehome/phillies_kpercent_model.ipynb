{
 "cells": [
  {
   "cell_type": "markdown",
   "metadata": {},
   "source": [
    "# Phillies Quantitative Analyst Take-Home\n",
    "### Author: Ryan Williams\n",
    "### Date: 05/12/2025\n",
    "\n",
    "**Language**: Julia 1.11+\n",
    "\n",
    "This notebook addresses Question 11 of the assessment, where we are tasked with predicting each pitcher's 2024 strikeout percentage (K%) using their prior performance data.\n",
    "\n",
    "We use a hierarchical Bayesian model implemented via `Turing.jl` to estimate future K% while accounting for player-level effects and uncertainty.\n"
   ]
  },
  {
   "cell_type": "code",
   "execution_count": null,
   "id": "bc1c2eed",
   "metadata": {},
   "outputs": [],
   "source": [
    "# Setup Julia environment for the k_model package\n",
    "using Pkg\n",
    "Pkg.activate(\"k_model_env\")\n",
    "Pkg.add([\n",
    "    \"CSV\",\n",
    "    \"DataFrames\",\n",
    "    \"StatsPlots\",\n",
    "    \"Turing\",\n",
    "    \"Random\",\n",
    "    \"Distributions\",\n",
    "    \"StatsBase\",\n",
    "    \"CategoricalArrays\"\n",
    "])\n",
    "Pkg.precompile()"
   ]
  },
  {
   "cell_type": "code",
   "execution_count": 8,
   "metadata": {},
   "outputs": [
    {
     "data": {
      "text/plain": [
       "TaskLocalRNG()"
      ]
     },
     "metadata": {},
     "output_type": "display_data"
    }
   ],
   "source": [
    "# Load libraries\n",
    "using CSV, DataFrames\n",
    "using StatsPlots\n",
    "using Turing\n",
    "using Random, Distributions\n",
    "using StatsBase\n",
    "using CategoricalArrays\n",
    "Random.seed!(42)"
   ]
  },
  {
   "cell_type": "markdown",
   "metadata": {},
   "source": [
    "## Load and inspect data\n",
    "We begin by loading `k.csv`, which contains:\n",
    "- Player identifiers (MLBAMID, FanGraphs ID)\n",
    "- Age and season\n",
    "- Total Batters Faced (TBF) and Strikeout Percentage (K%)"
   ]
  },
  {
   "cell_type": "code",
   "execution_count": 3,
   "metadata": {},
   "outputs": [
    {
     "data": {
      "text/html": [
       "<div><div style = \"float: left;\"><span>5×8 DataFrame</span></div><div style = \"clear: both;\"></div></div><div class = \"data-frame\" style = \"overflow-x: scroll;\"><table class = \"data-frame\" style = \"margin-bottom: 6px;\"><thead><tr class = \"header\"><th class = \"rowNumber\" style = \"font-weight: bold; text-align: right;\">Row</th><th style = \"text-align: left;\">MLBAMID</th><th style = \"text-align: left;\">PlayerId</th><th style = \"text-align: left;\">Name</th><th style = \"text-align: left;\">Team</th><th style = \"text-align: left;\">Age</th><th style = \"text-align: left;\">Season</th><th style = \"text-align: left;\">TBF</th><th style = \"text-align: left;\">K%</th></tr><tr class = \"subheader headerLastRow\"><th class = \"rowNumber\" style = \"font-weight: bold; text-align: right;\"></th><th title = \"Int64\" style = \"text-align: left;\">Int64</th><th title = \"Int64\" style = \"text-align: left;\">Int64</th><th title = \"String31\" style = \"text-align: left;\">String31</th><th title = \"String7\" style = \"text-align: left;\">String7</th><th title = \"Int64\" style = \"text-align: left;\">Int64</th><th title = \"Int64\" style = \"text-align: left;\">Int64</th><th title = \"Int64\" style = \"text-align: left;\">Int64</th><th title = \"Float64\" style = \"text-align: left;\">Float64</th></tr></thead><tbody><tr><td class = \"rowNumber\" style = \"font-weight: bold; text-align: right;\">1</td><td style = \"text-align: right;\">695243</td><td style = \"text-align: right;\">31757</td><td style = \"text-align: left;\">Mason Miller</td><td style = \"text-align: left;\">OAK</td><td style = \"text-align: right;\">25</td><td style = \"text-align: right;\">2024</td><td style = \"text-align: right;\">249</td><td style = \"text-align: right;\">0.417671</td></tr><tr><td class = \"rowNumber\" style = \"font-weight: bold; text-align: right;\">2</td><td style = \"text-align: right;\">621242</td><td style = \"text-align: right;\">14710</td><td style = \"text-align: left;\">Edwin Díaz</td><td style = \"text-align: left;\">NYM</td><td style = \"text-align: right;\">30</td><td style = \"text-align: right;\">2024</td><td style = \"text-align: right;\">216</td><td style = \"text-align: right;\">0.388889</td></tr><tr><td class = \"rowNumber\" style = \"font-weight: bold; text-align: right;\">3</td><td style = \"text-align: right;\">518585</td><td style = \"text-align: right;\">7048</td><td style = \"text-align: left;\">Fernando Cruz</td><td style = \"text-align: left;\">CIN</td><td style = \"text-align: right;\">34</td><td style = \"text-align: right;\">2024</td><td style = \"text-align: right;\">288</td><td style = \"text-align: right;\">0.378472</td></tr><tr><td class = \"rowNumber\" style = \"font-weight: bold; text-align: right;\">4</td><td style = \"text-align: right;\">623352</td><td style = \"text-align: right;\">14212</td><td style = \"text-align: left;\">Josh Hader</td><td style = \"text-align: left;\">HOU</td><td style = \"text-align: right;\">30</td><td style = \"text-align: right;\">2024</td><td style = \"text-align: right;\">278</td><td style = \"text-align: right;\">0.377698</td></tr><tr><td class = \"rowNumber\" style = \"font-weight: bold; text-align: right;\">5</td><td style = \"text-align: right;\">663574</td><td style = \"text-align: right;\">19926</td><td style = \"text-align: left;\">Tony Santillan</td><td style = \"text-align: left;\">CIN</td><td style = \"text-align: right;\">27</td><td style = \"text-align: right;\">2024</td><td style = \"text-align: right;\">122</td><td style = \"text-align: right;\">0.377049</td></tr></tbody></table></div>"
      ],
      "text/latex": [
       "\\begin{tabular}{r|cccccccc}\n",
       "\t& MLBAMID & PlayerId & Name & Team & Age & Season & TBF & K\\%\\\\\n",
       "\t\\hline\n",
       "\t& Int64 & Int64 & String31 & String7 & Int64 & Int64 & Int64 & Float64\\\\\n",
       "\t\\hline\n",
       "\t1 & 695243 & 31757 & Mason Miller & OAK & 25 & 2024 & 249 & 0.417671 \\\\\n",
       "\t2 & 621242 & 14710 & Edwin Díaz & NYM & 30 & 2024 & 216 & 0.388889 \\\\\n",
       "\t3 & 518585 & 7048 & Fernando Cruz & CIN & 34 & 2024 & 288 & 0.378472 \\\\\n",
       "\t4 & 623352 & 14212 & Josh Hader & HOU & 30 & 2024 & 278 & 0.377698 \\\\\n",
       "\t5 & 663574 & 19926 & Tony Santillan & CIN & 27 & 2024 & 122 & 0.377049 \\\\\n",
       "\\end{tabular}\n"
      ],
      "text/plain": [
       "\u001b[1m5×8 DataFrame\u001b[0m\n",
       "\u001b[1m Row \u001b[0m│\u001b[1m MLBAMID \u001b[0m\u001b[1m PlayerId \u001b[0m\u001b[1m Name           \u001b[0m\u001b[1m Team    \u001b[0m\u001b[1m Age   \u001b[0m\u001b[1m Season \u001b[0m\u001b[1m TBF   \u001b[0m\u001b[1m K%   \u001b[0m ⋯\n",
       "     │\u001b[90m Int64   \u001b[0m\u001b[90m Int64    \u001b[0m\u001b[90m String31       \u001b[0m\u001b[90m String7 \u001b[0m\u001b[90m Int64 \u001b[0m\u001b[90m Int64  \u001b[0m\u001b[90m Int64 \u001b[0m\u001b[90m Float\u001b[0m ⋯\n",
       "─────┼──────────────────────────────────────────────────────────────────────────\n",
       "   1 │  695243     31757  Mason Miller    OAK         25    2024    249  0.417 ⋯\n",
       "   2 │  621242     14710  Edwin Díaz      NYM         30    2024    216  0.388\n",
       "   3 │  518585      7048  Fernando Cruz   CIN         34    2024    288  0.378\n",
       "   4 │  623352     14212  Josh Hader      HOU         30    2024    278  0.377\n",
       "   5 │  663574     19926  Tony Santillan  CIN         27    2024    122  0.377 ⋯\n",
       "\u001b[36m                                                                1 column omitted\u001b[0m"
      ]
     },
     "metadata": {},
     "output_type": "display_data"
    }
   ],
   "source": [
    "df = CSV.read(\"k.csv\", DataFrame)\n",
    "first(df, 5)"
   ]
  },
  {
   "cell_type": "code",
   "execution_count": null,
   "id": "ea266ef9",
   "metadata": {},
   "outputs": [],
   "source": [
    "describe(df)\n",
    "# names(df)"
   ]
  },
  {
   "cell_type": "markdown",
   "metadata": {},
   "source": [
    "## Preprocess Data\n",
    "- We sort by season and player\n",
    "- We compute lagged K% and TBF\n",
    "- We exclude rows with missing historical data (e.g., rookies)"
   ]
  },
  {
   "cell_type": "code",
   "execution_count": 4,
   "id": "a21863ce",
   "metadata": {},
   "outputs": [
    {
     "data": {
      "text/html": [
       "<div><div style = \"float: left;\"><span>1892×8 DataFrame</span></div><div style = \"float: right;\"><span style = \"font-style: italic;\">1867 rows omitted</span></div><div style = \"clear: both;\"></div></div><div class = \"data-frame\" style = \"overflow-x: scroll;\"><table class = \"data-frame\" style = \"margin-bottom: 6px;\"><thead><tr class = \"header\"><th class = \"rowNumber\" style = \"font-weight: bold; text-align: right;\">Row</th><th style = \"text-align: left;\">MLBAMID</th><th style = \"text-align: left;\">PlayerId</th><th style = \"text-align: left;\">Name</th><th style = \"text-align: left;\">Team</th><th style = \"text-align: left;\">Age</th><th style = \"text-align: left;\">Season</th><th style = \"text-align: left;\">TBF</th><th style = \"text-align: left;\">K</th></tr><tr class = \"subheader headerLastRow\"><th class = \"rowNumber\" style = \"font-weight: bold; text-align: right;\"></th><th title = \"Int64\" style = \"text-align: left;\">Int64</th><th title = \"Int64\" style = \"text-align: left;\">Int64</th><th title = \"String31\" style = \"text-align: left;\">String31</th><th title = \"String7\" style = \"text-align: left;\">String7</th><th title = \"Int64\" style = \"text-align: left;\">Int64</th><th title = \"Int64\" style = \"text-align: left;\">Int64</th><th title = \"Int64\" style = \"text-align: left;\">Int64</th><th title = \"Float64\" style = \"text-align: left;\">Float64</th></tr></thead><tbody><tr><td class = \"rowNumber\" style = \"font-weight: bold; text-align: right;\">1</td><td style = \"text-align: right;\">695243</td><td style = \"text-align: right;\">31757</td><td style = \"text-align: left;\">Mason Miller</td><td style = \"text-align: left;\">OAK</td><td style = \"text-align: right;\">25</td><td style = \"text-align: right;\">2024</td><td style = \"text-align: right;\">249</td><td style = \"text-align: right;\">0.417671</td></tr><tr><td class = \"rowNumber\" style = \"font-weight: bold; text-align: right;\">2</td><td style = \"text-align: right;\">621242</td><td style = \"text-align: right;\">14710</td><td style = \"text-align: left;\">Edwin Díaz</td><td style = \"text-align: left;\">NYM</td><td style = \"text-align: right;\">30</td><td style = \"text-align: right;\">2024</td><td style = \"text-align: right;\">216</td><td style = \"text-align: right;\">0.388889</td></tr><tr><td class = \"rowNumber\" style = \"font-weight: bold; text-align: right;\">3</td><td style = \"text-align: right;\">518585</td><td style = \"text-align: right;\">7048</td><td style = \"text-align: left;\">Fernando Cruz</td><td style = \"text-align: left;\">CIN</td><td style = \"text-align: right;\">34</td><td style = \"text-align: right;\">2024</td><td style = \"text-align: right;\">288</td><td style = \"text-align: right;\">0.378472</td></tr><tr><td class = \"rowNumber\" style = \"font-weight: bold; text-align: right;\">4</td><td style = \"text-align: right;\">623352</td><td style = \"text-align: right;\">14212</td><td style = \"text-align: left;\">Josh Hader</td><td style = \"text-align: left;\">HOU</td><td style = \"text-align: right;\">30</td><td style = \"text-align: right;\">2024</td><td style = \"text-align: right;\">278</td><td style = \"text-align: right;\">0.377698</td></tr><tr><td class = \"rowNumber\" style = \"font-weight: bold; text-align: right;\">5</td><td style = \"text-align: right;\">663574</td><td style = \"text-align: right;\">19926</td><td style = \"text-align: left;\">Tony Santillan</td><td style = \"text-align: left;\">CIN</td><td style = \"text-align: right;\">27</td><td style = \"text-align: right;\">2024</td><td style = \"text-align: right;\">122</td><td style = \"text-align: right;\">0.377049</td></tr><tr><td class = \"rowNumber\" style = \"font-weight: bold; text-align: right;\">6</td><td style = \"text-align: right;\">669093</td><td style = \"text-align: right;\">22210</td><td style = \"text-align: left;\">Jeremiah Estrada</td><td style = \"text-align: left;\">SDP</td><td style = \"text-align: right;\">25</td><td style = \"text-align: right;\">2024</td><td style = \"text-align: right;\">252</td><td style = \"text-align: right;\">0.373016</td></tr><tr><td class = \"rowNumber\" style = \"font-weight: bold; text-align: right;\">7</td><td style = \"text-align: right;\">547973</td><td style = \"text-align: right;\">10233</td><td style = \"text-align: left;\">Aroldis Chapman</td><td style = \"text-align: left;\">PIT</td><td style = \"text-align: right;\">36</td><td style = \"text-align: right;\">2024</td><td style = \"text-align: right;\">265</td><td style = \"text-align: right;\">0.369811</td></tr><tr><td class = \"rowNumber\" style = \"font-weight: bold; text-align: right;\">8</td><td style = \"text-align: right;\">671305</td><td style = \"text-align: right;\">22533</td><td style = \"text-align: left;\">Michel Otañez</td><td style = \"text-align: left;\">OAK</td><td style = \"text-align: right;\">26</td><td style = \"text-align: right;\">2024</td><td style = \"text-align: right;\">151</td><td style = \"text-align: right;\">0.364238</td></tr><tr><td class = \"rowNumber\" style = \"font-weight: bold; text-align: right;\">9</td><td style = \"text-align: right;\">489446</td><td style = \"text-align: right;\">9073</td><td style = \"text-align: left;\">Kirby Yates</td><td style = \"text-align: left;\">TEX</td><td style = \"text-align: right;\">37</td><td style = \"text-align: right;\">2024</td><td style = \"text-align: right;\">237</td><td style = \"text-align: right;\">0.35865</td></tr><tr><td class = \"rowNumber\" style = \"font-weight: bold; text-align: right;\">10</td><td style = \"text-align: right;\">670955</td><td style = \"text-align: right;\">20539</td><td style = \"text-align: left;\">Edwin Uceta</td><td style = \"text-align: left;\">TBR</td><td style = \"text-align: right;\">26</td><td style = \"text-align: right;\">2024</td><td style = \"text-align: right;\">159</td><td style = \"text-align: right;\">0.358491</td></tr><tr><td class = \"rowNumber\" style = \"font-weight: bold; text-align: right;\">11</td><td style = \"text-align: right;\">671922</td><td style = \"text-align: right;\">27867</td><td style = \"text-align: left;\">Cade Smith</td><td style = \"text-align: left;\">CLE</td><td style = \"text-align: right;\">25</td><td style = \"text-align: right;\">2024</td><td style = \"text-align: right;\">289</td><td style = \"text-align: right;\">0.356401</td></tr><tr><td class = \"rowNumber\" style = \"font-weight: bold; text-align: right;\">12</td><td style = \"text-align: right;\">673380</td><td style = \"text-align: right;\">23055</td><td style = \"text-align: left;\">Dedniel Núñez</td><td style = \"text-align: left;\">NYM</td><td style = \"text-align: right;\">28</td><td style = \"text-align: right;\">2024</td><td style = \"text-align: right;\">135</td><td style = \"text-align: right;\">0.355556</td></tr><tr><td class = \"rowNumber\" style = \"font-weight: bold; text-align: right;\">13</td><td style = \"text-align: right;\">676979</td><td style = \"text-align: right;\">27463</td><td style = \"text-align: left;\">Garrett Crochet</td><td style = \"text-align: left;\">CHW</td><td style = \"text-align: right;\">25</td><td style = \"text-align: right;\">2024</td><td style = \"text-align: right;\">595</td><td style = \"text-align: right;\">0.35126</td></tr><tr><td style = \"text-align: right;\">&vellip;</td><td style = \"text-align: right;\">&vellip;</td><td style = \"text-align: right;\">&vellip;</td><td style = \"text-align: right;\">&vellip;</td><td style = \"text-align: right;\">&vellip;</td><td style = \"text-align: right;\">&vellip;</td><td style = \"text-align: right;\">&vellip;</td><td style = \"text-align: right;\">&vellip;</td><td style = \"text-align: right;\">&vellip;</td></tr><tr><td class = \"rowNumber\" style = \"font-weight: bold; text-align: right;\">1881</td><td style = \"text-align: right;\">657093</td><td style = \"text-align: right;\">17489</td><td style = \"text-align: left;\">Spenser Watkins</td><td style = \"text-align: left;\">BAL</td><td style = \"text-align: right;\">28</td><td style = \"text-align: right;\">2021</td><td style = \"text-align: right;\">255</td><td style = \"text-align: right;\">0.137255</td></tr><tr><td class = \"rowNumber\" style = \"font-weight: bold; text-align: right;\">1882</td><td style = \"text-align: right;\">685503</td><td style = \"text-align: right;\">27505</td><td style = \"text-align: left;\">Kohei Arihara</td><td style = \"text-align: left;\">TEX</td><td style = \"text-align: right;\">28</td><td style = \"text-align: right;\">2021</td><td style = \"text-align: right;\">178</td><td style = \"text-align: right;\">0.134831</td></tr><tr><td class = \"rowNumber\" style = \"font-weight: bold; text-align: right;\">1883</td><td style = \"text-align: right;\">663734</td><td style = \"text-align: right;\">18699</td><td style = \"text-align: left;\">Nick Neidert</td><td style = \"text-align: left;\">MIA</td><td style = \"text-align: right;\">24</td><td style = \"text-align: right;\">2021</td><td style = \"text-align: right;\">157</td><td style = \"text-align: right;\">0.133758</td></tr><tr><td class = \"rowNumber\" style = \"font-weight: bold; text-align: right;\">1884</td><td style = \"text-align: right;\">649144</td><td style = \"text-align: right;\">19845</td><td style = \"text-align: left;\">Alex Wells</td><td style = \"text-align: left;\">BAL</td><td style = \"text-align: right;\">24</td><td style = \"text-align: right;\">2021</td><td style = \"text-align: right;\">197</td><td style = \"text-align: right;\">0.13198</td></tr><tr><td class = \"rowNumber\" style = \"font-weight: bold; text-align: right;\">1885</td><td style = \"text-align: right;\">572971</td><td style = \"text-align: right;\">9434</td><td style = \"text-align: left;\">Dallas Keuchel</td><td style = \"text-align: left;\">CHW</td><td style = \"text-align: right;\">33</td><td style = \"text-align: right;\">2021</td><td style = \"text-align: right;\">720</td><td style = \"text-align: right;\">0.131944</td></tr><tr><td class = \"rowNumber\" style = \"font-weight: bold; text-align: right;\">1886</td><td style = \"text-align: right;\">453281</td><td style = \"text-align: right;\">5221</td><td style = \"text-align: left;\">Wade LeBlanc</td><td style = \"text-align: left;\">- - -</td><td style = \"text-align: right;\">36</td><td style = \"text-align: right;\">2021</td><td style = \"text-align: right;\">221</td><td style = \"text-align: right;\">0.131222</td></tr><tr><td class = \"rowNumber\" style = \"font-weight: bold; text-align: right;\">1887</td><td style = \"text-align: right;\">676840</td><td style = \"text-align: right;\">20339</td><td style = \"text-align: left;\">Matt Peacock</td><td style = \"text-align: left;\">ARI</td><td style = \"text-align: right;\">27</td><td style = \"text-align: right;\">2021</td><td style = \"text-align: right;\">386</td><td style = \"text-align: right;\">0.129534</td></tr><tr><td class = \"rowNumber\" style = \"font-weight: bold; text-align: right;\">1888</td><td style = \"text-align: right;\">592346</td><td style = \"text-align: right;\">14663</td><td style = \"text-align: left;\">Chi Chi González</td><td style = \"text-align: left;\">COL</td><td style = \"text-align: right;\">29</td><td style = \"text-align: right;\">2021</td><td style = \"text-align: right;\">448</td><td style = \"text-align: right;\">0.125</td></tr><tr><td class = \"rowNumber\" style = \"font-weight: bold; text-align: right;\">1889</td><td style = \"text-align: right;\">642092</td><td style = \"text-align: right;\">19826</td><td style = \"text-align: left;\">Riley Smith</td><td style = \"text-align: left;\">ARI</td><td style = \"text-align: right;\">26</td><td style = \"text-align: right;\">2021</td><td style = \"text-align: right;\">301</td><td style = \"text-align: right;\">0.119601</td></tr><tr><td class = \"rowNumber\" style = \"font-weight: bold; text-align: right;\">1890</td><td style = \"text-align: right;\">677976</td><td style = \"text-align: right;\">23798</td><td style = \"text-align: left;\">Randy Dobnak</td><td style = \"text-align: left;\">MIN</td><td style = \"text-align: right;\">26</td><td style = \"text-align: right;\">2021</td><td style = \"text-align: right;\">228</td><td style = \"text-align: right;\">0.118421</td></tr><tr><td class = \"rowNumber\" style = \"font-weight: bold; text-align: right;\">1891</td><td style = \"text-align: right;\">433589</td><td style = \"text-align: right;\">4020</td><td style = \"text-align: left;\">Yusmeiro Petit</td><td style = \"text-align: left;\">OAK</td><td style = \"text-align: right;\">36</td><td style = \"text-align: right;\">2021</td><td style = \"text-align: right;\">313</td><td style = \"text-align: right;\">0.118211</td></tr><tr><td class = \"rowNumber\" style = \"font-weight: bold; text-align: right;\">1892</td><td style = \"text-align: right;\">656212</td><td style = \"text-align: right;\">19865</td><td style = \"text-align: left;\">Charlie Barnes</td><td style = \"text-align: left;\">MIN</td><td style = \"text-align: right;\">25</td><td style = \"text-align: right;\">2021</td><td style = \"text-align: right;\">175</td><td style = \"text-align: right;\">0.114286</td></tr></tbody></table></div>"
      ],
      "text/latex": [
       "\\begin{tabular}{r|cccccccc}\n",
       "\t& MLBAMID & PlayerId & Name & Team & Age & Season & TBF & K\\\\\n",
       "\t\\hline\n",
       "\t& Int64 & Int64 & String31 & String7 & Int64 & Int64 & Int64 & Float64\\\\\n",
       "\t\\hline\n",
       "\t1 & 695243 & 31757 & Mason Miller & OAK & 25 & 2024 & 249 & 0.417671 \\\\\n",
       "\t2 & 621242 & 14710 & Edwin Díaz & NYM & 30 & 2024 & 216 & 0.388889 \\\\\n",
       "\t3 & 518585 & 7048 & Fernando Cruz & CIN & 34 & 2024 & 288 & 0.378472 \\\\\n",
       "\t4 & 623352 & 14212 & Josh Hader & HOU & 30 & 2024 & 278 & 0.377698 \\\\\n",
       "\t5 & 663574 & 19926 & Tony Santillan & CIN & 27 & 2024 & 122 & 0.377049 \\\\\n",
       "\t6 & 669093 & 22210 & Jeremiah Estrada & SDP & 25 & 2024 & 252 & 0.373016 \\\\\n",
       "\t7 & 547973 & 10233 & Aroldis Chapman & PIT & 36 & 2024 & 265 & 0.369811 \\\\\n",
       "\t8 & 671305 & 22533 & Michel Otañez & OAK & 26 & 2024 & 151 & 0.364238 \\\\\n",
       "\t9 & 489446 & 9073 & Kirby Yates & TEX & 37 & 2024 & 237 & 0.35865 \\\\\n",
       "\t10 & 670955 & 20539 & Edwin Uceta & TBR & 26 & 2024 & 159 & 0.358491 \\\\\n",
       "\t11 & 671922 & 27867 & Cade Smith & CLE & 25 & 2024 & 289 & 0.356401 \\\\\n",
       "\t12 & 673380 & 23055 & Dedniel Núñez & NYM & 28 & 2024 & 135 & 0.355556 \\\\\n",
       "\t13 & 676979 & 27463 & Garrett Crochet & CHW & 25 & 2024 & 595 & 0.35126 \\\\\n",
       "\t14 & 605483 & 13543 & Blake Snell & SFG & 31 & 2024 & 418 & 0.34689 \\\\\n",
       "\t15 & 643377 & 20253 & Griffin Jax & MIN & 29 & 2024 & 276 & 0.344203 \\\\\n",
       "\t16 & 664776 & 21620 & Jake Cousins & NYY & 29 & 2024 & 155 & 0.341935 \\\\\n",
       "\t17 & 657585 & 16866 & Reed Garrett & NYM & 31 & 2024 & 247 & 0.336032 \\\\\n",
       "\t18 & 643410 & 15551 & Mark Leiter Jr. & - - - & 33 & 2024 & 256 & 0.335938 \\\\\n",
       "\t19 & 656546 & 17432 & Jeff Hoffman & PHI & 31 & 2024 & 265 & 0.335849 \\\\\n",
       "\t20 & 621114 & 17536 & Ryan Burr & TOR & 30 & 2024 & 140 & 0.335714 \\\\\n",
       "\t21 & 502085 & 8241 & David Robertson & TEX & 39 & 2024 & 296 & 0.334459 \\\\\n",
       "\t22 & 592662 & 11486 & Robbie Ray & SFG & 32 & 2024 & 129 & 0.333333 \\\\\n",
       "\t23 & 621381 & 13799 & Matt Strahm & PHI & 32 & 2024 & 237 & 0.333333 \\\\\n",
       "\t24 & 677053 & 25942 & Andrew Nardi & MIA & 25 & 2024 & 210 & 0.333333 \\\\\n",
       "\t$\\dots$ & $\\dots$ & $\\dots$ & $\\dots$ & $\\dots$ & $\\dots$ & $\\dots$ & $\\dots$ & $\\dots$ \\\\\n",
       "\\end{tabular}\n"
      ],
      "text/plain": [
       "\u001b[1m1892×8 DataFrame\u001b[0m\n",
       "\u001b[1m  Row \u001b[0m│\u001b[1m MLBAMID \u001b[0m\u001b[1m PlayerId \u001b[0m\u001b[1m Name             \u001b[0m\u001b[1m Team    \u001b[0m\u001b[1m Age   \u001b[0m\u001b[1m Season \u001b[0m\u001b[1m TBF   \u001b[0m\u001b[1m K \u001b[0m ⋯\n",
       "      │\u001b[90m Int64   \u001b[0m\u001b[90m Int64    \u001b[0m\u001b[90m String31         \u001b[0m\u001b[90m String7 \u001b[0m\u001b[90m Int64 \u001b[0m\u001b[90m Int64  \u001b[0m\u001b[90m Int64 \u001b[0m\u001b[90m Fl\u001b[0m ⋯\n",
       "──────┼─────────────────────────────────────────────────────────────────────────\n",
       "    1 │  695243     31757  Mason Miller      OAK         25    2024    249  0. ⋯\n",
       "    2 │  621242     14710  Edwin Díaz        NYM         30    2024    216  0.\n",
       "    3 │  518585      7048  Fernando Cruz     CIN         34    2024    288  0.\n",
       "    4 │  623352     14212  Josh Hader        HOU         30    2024    278  0.\n",
       "    5 │  663574     19926  Tony Santillan    CIN         27    2024    122  0. ⋯\n",
       "    6 │  669093     22210  Jeremiah Estrada  SDP         25    2024    252  0.\n",
       "    7 │  547973     10233  Aroldis Chapman   PIT         36    2024    265  0.\n",
       "    8 │  671305     22533  Michel Otañez     OAK         26    2024    151  0.\n",
       "  ⋮   │    ⋮        ⋮             ⋮             ⋮       ⋮      ⋮       ⋮       ⋱\n",
       " 1886 │  453281      5221  Wade LeBlanc      - - -       36    2021    221  0. ⋯\n",
       " 1887 │  676840     20339  Matt Peacock      ARI         27    2021    386  0.\n",
       " 1888 │  592346     14663  Chi Chi González  COL         29    2021    448  0.\n",
       " 1889 │  642092     19826  Riley Smith       ARI         26    2021    301  0.\n",
       " 1890 │  677976     23798  Randy Dobnak      MIN         26    2021    228  0. ⋯\n",
       " 1891 │  433589      4020  Yusmeiro Petit    OAK         36    2021    313  0.\n",
       " 1892 │  656212     19865  Charlie Barnes    MIN         25    2021    175  0.\n",
       "\u001b[36m                                                  1 column and 1877 rows omitted\u001b[0m"
      ]
     },
     "metadata": {},
     "output_type": "display_data"
    }
   ],
   "source": [
    "rename!(df, Symbol(\"K%\") => :K)"
   ]
  },
  {
   "cell_type": "code",
   "execution_count": 5,
   "metadata": {},
   "outputs": [
    {
     "data": {
      "text/html": [
       "<div><div style = \"float: left;\"><span>1029×10 DataFrame</span></div><div style = \"float: right;\"><span style = \"font-style: italic;\">1004 rows omitted</span></div><div style = \"clear: both;\"></div></div><div class = \"data-frame\" style = \"overflow-x: scroll;\"><table class = \"data-frame\" style = \"margin-bottom: 6px;\"><thead><tr class = \"header\"><th class = \"rowNumber\" style = \"font-weight: bold; text-align: right;\">Row</th><th style = \"text-align: left;\">MLBAMID</th><th style = \"text-align: left;\">PlayerId</th><th style = \"text-align: left;\">Name</th><th style = \"text-align: left;\">Team</th><th style = \"text-align: left;\">Age</th><th style = \"text-align: left;\">Season</th><th style = \"text-align: left;\">TBF</th><th style = \"text-align: left;\">K</th><th style = \"text-align: left;\">K_prev</th><th style = \"text-align: left;\">TBF_prev</th></tr><tr class = \"subheader headerLastRow\"><th class = \"rowNumber\" style = \"font-weight: bold; text-align: right;\"></th><th title = \"Int64\" style = \"text-align: left;\">Int64</th><th title = \"Int64\" style = \"text-align: left;\">Int64</th><th title = \"String31\" style = \"text-align: left;\">String31</th><th title = \"String7\" style = \"text-align: left;\">String7</th><th title = \"Int64\" style = \"text-align: left;\">Int64</th><th title = \"Int64\" style = \"text-align: left;\">Int64</th><th title = \"Int64\" style = \"text-align: left;\">Int64</th><th title = \"Float64\" style = \"text-align: left;\">Float64</th><th title = \"Float64\" style = \"text-align: left;\">Float64</th><th title = \"Int64\" style = \"text-align: left;\">Int64</th></tr></thead><tbody><tr><td class = \"rowNumber\" style = \"font-weight: bold; text-align: right;\">1</td><td style = \"text-align: right;\">425794</td><td style = \"text-align: right;\">2233</td><td style = \"text-align: left;\">Adam Wainwright</td><td style = \"text-align: left;\">STL</td><td style = \"text-align: right;\">40</td><td style = \"text-align: right;\">2022</td><td style = \"text-align: right;\">803</td><td style = \"text-align: right;\">0.178082</td><td style = \"text-align: right;\">0.210145</td><td style = \"text-align: right;\">828</td></tr><tr><td class = \"rowNumber\" style = \"font-weight: bold; text-align: right;\">2</td><td style = \"text-align: right;\">425794</td><td style = \"text-align: right;\">2233</td><td style = \"text-align: left;\">Adam Wainwright</td><td style = \"text-align: left;\">STL</td><td style = \"text-align: right;\">41</td><td style = \"text-align: right;\">2023</td><td style = \"text-align: right;\">484</td><td style = \"text-align: right;\">0.113636</td><td style = \"text-align: right;\">0.178082</td><td style = \"text-align: right;\">803</td></tr><tr><td class = \"rowNumber\" style = \"font-weight: bold; text-align: right;\">3</td><td style = \"text-align: right;\">425844</td><td style = \"text-align: right;\">1943</td><td style = \"text-align: left;\">Zack Greinke</td><td style = \"text-align: left;\">KCR</td><td style = \"text-align: right;\">38</td><td style = \"text-align: right;\">2022</td><td style = \"text-align: right;\">585</td><td style = \"text-align: right;\">0.124786</td><td style = \"text-align: right;\">0.172166</td><td style = \"text-align: right;\">697</td></tr><tr><td class = \"rowNumber\" style = \"font-weight: bold; text-align: right;\">4</td><td style = \"text-align: right;\">425844</td><td style = \"text-align: right;\">1943</td><td style = \"text-align: left;\">Zack Greinke</td><td style = \"text-align: left;\">KCR</td><td style = \"text-align: right;\">39</td><td style = \"text-align: right;\">2023</td><td style = \"text-align: right;\">593</td><td style = \"text-align: right;\">0.163575</td><td style = \"text-align: right;\">0.124786</td><td style = \"text-align: right;\">585</td></tr><tr><td class = \"rowNumber\" style = \"font-weight: bold; text-align: right;\">5</td><td style = \"text-align: right;\">434378</td><td style = \"text-align: right;\">8700</td><td style = \"text-align: left;\">Justin Verlander</td><td style = \"text-align: left;\">- - -</td><td style = \"text-align: right;\">40</td><td style = \"text-align: right;\">2023</td><td style = \"text-align: right;\">669</td><td style = \"text-align: right;\">0.215247</td><td style = \"text-align: right;\">0.277778</td><td style = \"text-align: right;\">666</td></tr><tr><td class = \"rowNumber\" style = \"font-weight: bold; text-align: right;\">6</td><td style = \"text-align: right;\">434378</td><td style = \"text-align: right;\">8700</td><td style = \"text-align: left;\">Justin Verlander</td><td style = \"text-align: left;\">HOU</td><td style = \"text-align: right;\">41</td><td style = \"text-align: right;\">2024</td><td style = \"text-align: right;\">396</td><td style = \"text-align: right;\">0.186869</td><td style = \"text-align: right;\">0.215247</td><td style = \"text-align: right;\">669</td></tr><tr><td class = \"rowNumber\" style = \"font-weight: bold; text-align: right;\">7</td><td style = \"text-align: right;\">445276</td><td style = \"text-align: right;\">3096</td><td style = \"text-align: left;\">Kenley Jansen</td><td style = \"text-align: left;\">ATL</td><td style = \"text-align: right;\">34</td><td style = \"text-align: right;\">2022</td><td style = \"text-align: right;\">260</td><td style = \"text-align: right;\">0.326923</td><td style = \"text-align: right;\">0.309353</td><td style = \"text-align: right;\">278</td></tr><tr><td class = \"rowNumber\" style = \"font-weight: bold; text-align: right;\">8</td><td style = \"text-align: right;\">445276</td><td style = \"text-align: right;\">3096</td><td style = \"text-align: left;\">Kenley Jansen</td><td style = \"text-align: left;\">BOS</td><td style = \"text-align: right;\">35</td><td style = \"text-align: right;\">2023</td><td style = \"text-align: right;\">188</td><td style = \"text-align: right;\">0.276596</td><td style = \"text-align: right;\">0.326923</td><td style = \"text-align: right;\">260</td></tr><tr><td class = \"rowNumber\" style = \"font-weight: bold; text-align: right;\">9</td><td style = \"text-align: right;\">445276</td><td style = \"text-align: right;\">3096</td><td style = \"text-align: left;\">Kenley Jansen</td><td style = \"text-align: left;\">BOS</td><td style = \"text-align: right;\">36</td><td style = \"text-align: right;\">2024</td><td style = \"text-align: right;\">218</td><td style = \"text-align: right;\">0.284404</td><td style = \"text-align: right;\">0.276596</td><td style = \"text-align: right;\">188</td></tr><tr><td class = \"rowNumber\" style = \"font-weight: bold; text-align: right;\">10</td><td style = \"text-align: right;\">445926</td><td style = \"text-align: right;\">5448</td><td style = \"text-align: left;\">Jesse Chavez</td><td style = \"text-align: left;\">- - -</td><td style = \"text-align: right;\">38</td><td style = \"text-align: right;\">2022</td><td style = \"text-align: right;\">292</td><td style = \"text-align: right;\">0.253425</td><td style = \"text-align: right;\">0.270677</td><td style = \"text-align: right;\">133</td></tr><tr><td class = \"rowNumber\" style = \"font-weight: bold; text-align: right;\">11</td><td style = \"text-align: right;\">445926</td><td style = \"text-align: right;\">5448</td><td style = \"text-align: left;\">Jesse Chavez</td><td style = \"text-align: left;\">ATL</td><td style = \"text-align: right;\">39</td><td style = \"text-align: right;\">2023</td><td style = \"text-align: right;\">144</td><td style = \"text-align: right;\">0.270833</td><td style = \"text-align: right;\">0.253425</td><td style = \"text-align: right;\">292</td></tr><tr><td class = \"rowNumber\" style = \"font-weight: bold; text-align: right;\">12</td><td style = \"text-align: right;\">445926</td><td style = \"text-align: right;\">5448</td><td style = \"text-align: left;\">Jesse Chavez</td><td style = \"text-align: left;\">ATL</td><td style = \"text-align: right;\">40</td><td style = \"text-align: right;\">2024</td><td style = \"text-align: right;\">264</td><td style = \"text-align: right;\">0.208333</td><td style = \"text-align: right;\">0.270833</td><td style = \"text-align: right;\">144</td></tr><tr><td class = \"rowNumber\" style = \"font-weight: bold; text-align: right;\">13</td><td style = \"text-align: right;\">446372</td><td style = \"text-align: right;\">2429</td><td style = \"text-align: left;\">Corey Kluber</td><td style = \"text-align: left;\">TBR</td><td style = \"text-align: right;\">36</td><td style = \"text-align: right;\">2022</td><td style = \"text-align: right;\">689</td><td style = \"text-align: right;\">0.201742</td><td style = \"text-align: right;\">0.240469</td><td style = \"text-align: right;\">341</td></tr><tr><td style = \"text-align: right;\">&vellip;</td><td style = \"text-align: right;\">&vellip;</td><td style = \"text-align: right;\">&vellip;</td><td style = \"text-align: right;\">&vellip;</td><td style = \"text-align: right;\">&vellip;</td><td style = \"text-align: right;\">&vellip;</td><td style = \"text-align: right;\">&vellip;</td><td style = \"text-align: right;\">&vellip;</td><td style = \"text-align: right;\">&vellip;</td><td style = \"text-align: right;\">&vellip;</td><td style = \"text-align: right;\">&vellip;</td></tr><tr><td class = \"rowNumber\" style = \"font-weight: bold; text-align: right;\">1018</td><td style = \"text-align: right;\">687330</td><td style = \"text-align: right;\">25679</td><td style = \"text-align: left;\">Kevin Kelly</td><td style = \"text-align: left;\">TBR</td><td style = \"text-align: right;\">26</td><td style = \"text-align: right;\">2024</td><td style = \"text-align: right;\">278</td><td style = \"text-align: right;\">0.226619</td><td style = \"text-align: right;\">0.202899</td><td style = \"text-align: right;\">276</td></tr><tr><td class = \"rowNumber\" style = \"font-weight: bold; text-align: right;\">1019</td><td style = \"text-align: right;\">689225</td><td style = \"text-align: right;\">26079</td><td style = \"text-align: left;\">Beau Brieske</td><td style = \"text-align: left;\">DET</td><td style = \"text-align: right;\">25</td><td style = \"text-align: right;\">2023</td><td style = \"text-align: right;\">152</td><td style = \"text-align: right;\">0.203947</td><td style = \"text-align: right;\">0.159292</td><td style = \"text-align: right;\">339</td></tr><tr><td class = \"rowNumber\" style = \"font-weight: bold; text-align: right;\">1020</td><td style = \"text-align: right;\">689225</td><td style = \"text-align: right;\">26079</td><td style = \"text-align: left;\">Beau Brieske</td><td style = \"text-align: left;\">DET</td><td style = \"text-align: right;\">26</td><td style = \"text-align: right;\">2024</td><td style = \"text-align: right;\">282</td><td style = \"text-align: right;\">0.244681</td><td style = \"text-align: right;\">0.203947</td><td style = \"text-align: right;\">152</td></tr><tr><td class = \"rowNumber\" style = \"font-weight: bold; text-align: right;\">1021</td><td style = \"text-align: right;\">690986</td><td style = \"text-align: right;\">27758</td><td style = \"text-align: left;\">Kyle Harrison</td><td style = \"text-align: left;\">SFG</td><td style = \"text-align: right;\">22</td><td style = \"text-align: right;\">2024</td><td style = \"text-align: right;\">532</td><td style = \"text-align: right;\">0.221805</td><td style = \"text-align: right;\">0.238095</td><td style = \"text-align: right;\">147</td></tr><tr><td class = \"rowNumber\" style = \"font-weight: bold; text-align: right;\">1022</td><td style = \"text-align: right;\">693433</td><td style = \"text-align: right;\">30279</td><td style = \"text-align: left;\">Bryan Woo</td><td style = \"text-align: left;\">SEA</td><td style = \"text-align: right;\">24</td><td style = \"text-align: right;\">2024</td><td style = \"text-align: right;\">472</td><td style = \"text-align: right;\">0.213983</td><td style = \"text-align: right;\">0.250674</td><td style = \"text-align: right;\">371</td></tr><tr><td class = \"rowNumber\" style = \"font-weight: bold; text-align: right;\">1023</td><td style = \"text-align: right;\">693821</td><td style = \"text-align: right;\">27779</td><td style = \"text-align: left;\">Bryce Elder</td><td style = \"text-align: left;\">ATL</td><td style = \"text-align: right;\">24</td><td style = \"text-align: right;\">2023</td><td style = \"text-align: right;\">732</td><td style = \"text-align: right;\">0.174863</td><td style = \"text-align: right;\">0.207048</td><td style = \"text-align: right;\">227</td></tr><tr><td class = \"rowNumber\" style = \"font-weight: bold; text-align: right;\">1024</td><td style = \"text-align: right;\">693821</td><td style = \"text-align: right;\">27779</td><td style = \"text-align: left;\">Bryce Elder</td><td style = \"text-align: left;\">ATL</td><td style = \"text-align: right;\">25</td><td style = \"text-align: right;\">2024</td><td style = \"text-align: right;\">226</td><td style = \"text-align: right;\">0.20354</td><td style = \"text-align: right;\">0.174863</td><td style = \"text-align: right;\">732</td></tr><tr><td class = \"rowNumber\" style = \"font-weight: bold; text-align: right;\">1025</td><td style = \"text-align: right;\">694297</td><td style = \"text-align: right;\">27782</td><td style = \"text-align: left;\">Brandon Pfaadt</td><td style = \"text-align: left;\">ARI</td><td style = \"text-align: right;\">25</td><td style = \"text-align: right;\">2024</td><td style = \"text-align: right;\">760</td><td style = \"text-align: right;\">0.243421</td><td style = \"text-align: right;\">0.223278</td><td style = \"text-align: right;\">421</td></tr><tr><td class = \"rowNumber\" style = \"font-weight: bold; text-align: right;\">1026</td><td style = \"text-align: right;\">694363</td><td style = \"text-align: right;\">27472</td><td style = \"text-align: left;\">Jared Shuster</td><td style = \"text-align: left;\">CHW</td><td style = \"text-align: right;\">25</td><td style = \"text-align: right;\">2024</td><td style = \"text-align: right;\">321</td><td style = \"text-align: right;\">0.174455</td><td style = \"text-align: right;\">0.130435</td><td style = \"text-align: right;\">230</td></tr><tr><td class = \"rowNumber\" style = \"font-weight: bold; text-align: right;\">1027</td><td style = \"text-align: right;\">694813</td><td style = \"text-align: right;\">27792</td><td style = \"text-align: left;\">Gavin Stone</td><td style = \"text-align: left;\">LAD</td><td style = \"text-align: right;\">25</td><td style = \"text-align: right;\">2024</td><td style = \"text-align: right;\">580</td><td style = \"text-align: right;\">0.2</td><td style = \"text-align: right;\">0.144737</td><td style = \"text-align: right;\">152</td></tr><tr><td class = \"rowNumber\" style = \"font-weight: bold; text-align: right;\">1028</td><td style = \"text-align: right;\">695243</td><td style = \"text-align: right;\">31757</td><td style = \"text-align: left;\">Mason Miller</td><td style = \"text-align: left;\">OAK</td><td style = \"text-align: right;\">25</td><td style = \"text-align: right;\">2024</td><td style = \"text-align: right;\">249</td><td style = \"text-align: right;\">0.417671</td><td style = \"text-align: right;\">0.273381</td><td style = \"text-align: right;\">139</td></tr><tr><td class = \"rowNumber\" style = \"font-weight: bold; text-align: right;\">1029</td><td style = \"text-align: right;\">696136</td><td style = \"text-align: right;\">30094</td><td style = \"text-align: left;\">Jordan Wicks</td><td style = \"text-align: left;\">CHC</td><td style = \"text-align: right;\">24</td><td style = \"text-align: right;\">2024</td><td style = \"text-align: right;\">212</td><td style = \"text-align: right;\">0.198113</td><td style = \"text-align: right;\">0.163265</td><td style = \"text-align: right;\">147</td></tr></tbody></table></div>"
      ],
      "text/latex": [
       "\\begin{tabular}{r|cccccccccc}\n",
       "\t& MLBAMID & PlayerId & Name & Team & Age & Season & TBF & K & K\\_prev & \\\\\n",
       "\t\\hline\n",
       "\t& Int64 & Int64 & String31 & String7 & Int64 & Int64 & Int64 & Float64 & Float64 & \\\\\n",
       "\t\\hline\n",
       "\t1 & 425794 & 2233 & Adam Wainwright & STL & 40 & 2022 & 803 & 0.178082 & 0.210145 & $\\dots$ \\\\\n",
       "\t2 & 425794 & 2233 & Adam Wainwright & STL & 41 & 2023 & 484 & 0.113636 & 0.178082 & $\\dots$ \\\\\n",
       "\t3 & 425844 & 1943 & Zack Greinke & KCR & 38 & 2022 & 585 & 0.124786 & 0.172166 & $\\dots$ \\\\\n",
       "\t4 & 425844 & 1943 & Zack Greinke & KCR & 39 & 2023 & 593 & 0.163575 & 0.124786 & $\\dots$ \\\\\n",
       "\t5 & 434378 & 8700 & Justin Verlander & - - - & 40 & 2023 & 669 & 0.215247 & 0.277778 & $\\dots$ \\\\\n",
       "\t6 & 434378 & 8700 & Justin Verlander & HOU & 41 & 2024 & 396 & 0.186869 & 0.215247 & $\\dots$ \\\\\n",
       "\t7 & 445276 & 3096 & Kenley Jansen & ATL & 34 & 2022 & 260 & 0.326923 & 0.309353 & $\\dots$ \\\\\n",
       "\t8 & 445276 & 3096 & Kenley Jansen & BOS & 35 & 2023 & 188 & 0.276596 & 0.326923 & $\\dots$ \\\\\n",
       "\t9 & 445276 & 3096 & Kenley Jansen & BOS & 36 & 2024 & 218 & 0.284404 & 0.276596 & $\\dots$ \\\\\n",
       "\t10 & 445926 & 5448 & Jesse Chavez & - - - & 38 & 2022 & 292 & 0.253425 & 0.270677 & $\\dots$ \\\\\n",
       "\t11 & 445926 & 5448 & Jesse Chavez & ATL & 39 & 2023 & 144 & 0.270833 & 0.253425 & $\\dots$ \\\\\n",
       "\t12 & 445926 & 5448 & Jesse Chavez & ATL & 40 & 2024 & 264 & 0.208333 & 0.270833 & $\\dots$ \\\\\n",
       "\t13 & 446372 & 2429 & Corey Kluber & TBR & 36 & 2022 & 689 & 0.201742 & 0.240469 & $\\dots$ \\\\\n",
       "\t14 & 446372 & 2429 & Corey Kluber & BOS & 37 & 2023 & 257 & 0.163424 & 0.201742 & $\\dots$ \\\\\n",
       "\t15 & 448179 & 4806 & Rich Hill & BOS & 42 & 2022 & 526 & 0.207224 & 0.226929 & $\\dots$ \\\\\n",
       "\t16 & 448179 & 4806 & Rich Hill & - - - & 43 & 2023 & 660 & 0.195455 & 0.207224 & $\\dots$ \\\\\n",
       "\t17 & 450203 & 4676 & Charlie Morton & ATL & 38 & 2022 & 728 & 0.281593 & 0.285714 & $\\dots$ \\\\\n",
       "\t18 & 450203 & 4676 & Charlie Morton & ATL & 39 & 2023 & 716 & 0.255587 & 0.281593 & $\\dots$ \\\\\n",
       "\t19 & 450203 & 4676 & Charlie Morton & ATL & 40 & 2024 & 701 & 0.238231 & 0.255587 & $\\dots$ \\\\\n",
       "\t20 & 453178 & 6986 & Ian Kennedy & ARI & 37 & 2022 & 232 & 0.189655 & 0.27193 & $\\dots$ \\\\\n",
       "\t21 & 453268 & 7115 & Daniel Bard & COL & 37 & 2022 & 245 & 0.281633 & 0.263158 & $\\dots$ \\\\\n",
       "\t22 & 453268 & 7115 & Daniel Bard & COL & 38 & 2023 & 232 & 0.202586 & 0.281633 & $\\dots$ \\\\\n",
       "\t23 & 453286 & 3137 & Max Scherzer & NYM & 37 & 2022 & 565 & 0.306195 & 0.340548 & $\\dots$ \\\\\n",
       "\t24 & 453286 & 3137 & Max Scherzer & - - - & 38 & 2023 & 621 & 0.280193 & 0.306195 & $\\dots$ \\\\\n",
       "\t$\\dots$ & $\\dots$ & $\\dots$ & $\\dots$ & $\\dots$ & $\\dots$ & $\\dots$ & $\\dots$ & $\\dots$ & $\\dots$ &  \\\\\n",
       "\\end{tabular}\n"
      ],
      "text/plain": [
       "\u001b[1m1029×10 DataFrame\u001b[0m\n",
       "\u001b[1m  Row \u001b[0m│\u001b[1m MLBAMID \u001b[0m\u001b[1m PlayerId \u001b[0m\u001b[1m Name             \u001b[0m\u001b[1m Team    \u001b[0m\u001b[1m Age   \u001b[0m\u001b[1m Season \u001b[0m\u001b[1m TBF   \u001b[0m\u001b[1m K \u001b[0m ⋯\n",
       "      │\u001b[90m Int64   \u001b[0m\u001b[90m Int64    \u001b[0m\u001b[90m String31         \u001b[0m\u001b[90m String7 \u001b[0m\u001b[90m Int64 \u001b[0m\u001b[90m Int64  \u001b[0m\u001b[90m Int64 \u001b[0m\u001b[90m Fl\u001b[0m ⋯\n",
       "──────┼─────────────────────────────────────────────────────────────────────────\n",
       "    1 │  425794      2233  Adam Wainwright   STL         40    2022    803  0. ⋯\n",
       "    2 │  425794      2233  Adam Wainwright   STL         41    2023    484  0.\n",
       "    3 │  425844      1943  Zack Greinke      KCR         38    2022    585  0.\n",
       "    4 │  425844      1943  Zack Greinke      KCR         39    2023    593  0.\n",
       "    5 │  434378      8700  Justin Verlander  - - -       40    2023    669  0. ⋯\n",
       "    6 │  434378      8700  Justin Verlander  HOU         41    2024    396  0.\n",
       "    7 │  445276      3096  Kenley Jansen     ATL         34    2022    260  0.\n",
       "    8 │  445276      3096  Kenley Jansen     BOS         35    2023    188  0.\n",
       "  ⋮   │    ⋮        ⋮             ⋮             ⋮       ⋮      ⋮       ⋮       ⋱\n",
       " 1023 │  693821     27779  Bryce Elder       ATL         24    2023    732  0. ⋯\n",
       " 1024 │  693821     27779  Bryce Elder       ATL         25    2024    226  0.\n",
       " 1025 │  694297     27782  Brandon Pfaadt    ARI         25    2024    760  0.\n",
       " 1026 │  694363     27472  Jared Shuster     CHW         25    2024    321  0.\n",
       " 1027 │  694813     27792  Gavin Stone       LAD         25    2024    580  0. ⋯\n",
       " 1028 │  695243     31757  Mason Miller      OAK         25    2024    249  0.\n",
       " 1029 │  696136     30094  Jordan Wicks      CHC         24    2024    212  0.\n",
       "\u001b[36m                                                 3 columns and 1014 rows omitted\u001b[0m"
      ]
     },
     "metadata": {},
     "output_type": "display_data"
    }
   ],
   "source": [
    "# Sort the DataFrame to ensure proper ordering within each player group\n",
    "sort!(df, [:MLBAMID, :Season])\n",
    "\n",
    "# Initialize new columns with missing values\n",
    "df[!, :K_prev] = Vector{Union{Missing, Float64}}(missing, nrow(df))\n",
    "df[!, :TBF_prev] = Vector{Union{Missing, Int64}}(missing, nrow(df))\n",
    "\n",
    "# Fill previous season's K% and TBF for each pitcher\n",
    "for g in groupby(df, :MLBAMID)\n",
    "    global_indices = findall(x -> x in g.MLBAMID, df.MLBAMID)\n",
    "    for i in 2:nrow(g)\n",
    "        curr_idx = global_indices[i]\n",
    "        prev_idx = global_indices[i - 1]\n",
    "\n",
    "        df[!, :K_prev][curr_idx] = df[!, :K][prev_idx]\n",
    "        df[!, :TBF_prev][curr_idx] = df[!, :TBF][prev_idx]\n",
    "    end\n",
    "end\n",
    "\n",
    "# Drop rows that don’t have lagged values (e.g. rookies or first-year records)\n",
    "df_model = dropmissing(df, [:K_prev, :TBF_prev])"
   ]
  },
  {
   "cell_type": "markdown",
   "metadata": {},
   "source": [
    "## Target and Features\n",
    "- Target: K% for current season\n",
    "- Features: prior K%, prior TBF, age"
   ]
  },
  {
   "cell_type": "code",
   "execution_count": 12,
   "metadata": {},
   "outputs": [
    {
     "ename": "UndefVarError",
     "evalue": "UndefVarError: `codes` not defined in `Main`\nSuggestion: check for spelling errors or missing imports.",
     "output_type": "error",
     "traceback": [
      "UndefVarError: `codes` not defined in `Main`\n",
      "Suggestion: check for spelling errors or missing imports.\n",
      "\n",
      "Stacktrace:\n",
      " [1] top-level scope\n",
      "   @ ~/git/QuantAnalysisAssets/phillies_takehome/jl_notebook_cell_df34fa98e69747e1a8f8a730347b8e2f_X11sZmlsZQ==.jl:2"
     ]
    }
   ],
   "source": [
    "player_cats = categorical(df_model.MLBAMID)\n",
    "player_index = codes(player_cats)"
   ]
  },
  {
   "cell_type": "markdown",
   "metadata": {},
   "source": [
    "## Baseline Linear Model\n",
    "We'll begin with a simple linear regression to establish a baseline performance.\n"
   ]
  },
  {
   "cell_type": "code",
   "execution_count": null,
   "metadata": {},
   "outputs": [],
   "source": [
    "X_train, X_test, y_train, y_test = train_test_split(X, y, test_size=0.2, random_state=42)\n",
    "lr = LinearRegression()\n",
    "lr.fit(X_train, y_train)\n",
    "y_pred = lr.predict(X_test)\n",
    "\n",
    "print(f'R²: {r2_score(y_test, y_pred):.4f}')\n",
    "print(f'RMSE: {mean_squared_error(y_test, y_pred, squared=False):.4f}')"
   ]
  },
  {
   "cell_type": "markdown",
   "metadata": {},
   "source": [
    "## LightGBM Model (Gradient Boosted Trees)\n",
    "A more flexible model to capture nonlinear effects and feature interactions.\n"
   ]
  },
  {
   "cell_type": "code",
   "execution_count": null,
   "metadata": {},
   "outputs": [],
   "source": [
    "lgb_train = lgb.Dataset(X_train, y_train)\n",
    "lgb_eval = lgb.Dataset(X_test, y_test, reference=lgb_train)\n",
    "\n",
    "params = {\n",
    "    'objective': 'regression',\n",
    "    'metric': 'rmse',\n",
    "    'verbosity': -1\n",
    "}\n",
    "gbm = lgb.train(params, lgb_train, num_boost_round=100, valid_sets=[lgb_eval], early_stopping_rounds=10)\n",
    "y_pred_gbm = gbm.predict(X_test)\n",
    "\n",
    "print(f'LGBM RMSE: {mean_squared_error(y_test, y_pred_gbm, squared=False):.4f}')"
   ]
  },
  {
   "cell_type": "markdown",
   "metadata": {},
   "source": [
    "## Optional: Integrating External Data (Fastball Velocity, Stuff+, etc.)\n",
    "You may augment features using `pybaseball` to retrieve:\n",
    "- Fastball velocity\n",
    "- Pitch type usage\n",
    "- Historical Stuff+ ratings\n",
    "\n",
    "This shows initiative and awareness of predictive features used by MLB teams.\n"
   ]
  },
  {
   "cell_type": "markdown",
   "metadata": {},
   "source": [
    "## Conclusion & Deliverables\n",
    "- Summary of findings\n",
    "- Model performance comparison\n",
    "- Export of 2024 predictions for all eligible players (if requested)\n"
   ]
  },
  {
   "cell_type": "markdown",
   "id": "c05af666",
   "metadata": {},
   "source": []
  }
 ],
 "metadata": {
  "kernelspec": {
   "display_name": "Julia 1.11.5",
   "language": "julia",
   "name": "julia-1.11"
  },
  "language_info": {
   "file_extension": ".jl",
   "mimetype": "application/julia",
   "name": "julia",
   "version": "1.11.5"
  }
 },
 "nbformat": 4,
 "nbformat_minor": 5
}
