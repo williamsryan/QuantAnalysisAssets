{
 "cells": [
  {
   "cell_type": "markdown",
   "id": "8f559d00",
   "metadata": {},
   "source": [
    "# Strikeout % Prediction for 2024 Season\n",
    "\n",
    "This notebook uses historical player data to train a Ridge Regression model for predicting strikeout percentage (K%) in the 2024 MLB season."
   ]
  },
  {
   "cell_type": "code",
   "execution_count": 23,
   "id": "0869b70d",
   "metadata": {},
   "outputs": [
    {
     "name": "stderr",
     "output_type": "stream",
     "text": [
      "\u001b[32m\u001b[1m  Activating\u001b[22m\u001b[39m project at `~/git/QuantAnalysisAssets/phillies_takehome/k_model_env`\n"
     ]
    }
   ],
   "source": [
    "using Pkg\n",
    "Pkg.activate(\"k_model_env\")\n",
    "\n",
    "using CSV, DataFrames, StatsPlots\n",
    "using MLJ\n",
    "import MLJLinearModels: RidgeRegressor"
   ]
  },
  {
   "cell_type": "code",
   "execution_count": 5,
   "id": "5e640dbf",
   "metadata": {},
   "outputs": [
    {
     "data": {
      "text/html": [
       "<div><div style = \"float: left;\"><span>1029×10 DataFrame</span></div><div style = \"float: right;\"><span style = \"font-style: italic;\">1004 rows omitted</span></div><div style = \"clear: both;\"></div></div><div class = \"data-frame\" style = \"overflow-x: scroll;\"><table class = \"data-frame\" style = \"margin-bottom: 6px;\"><thead><tr class = \"header\"><th class = \"rowNumber\" style = \"font-weight: bold; text-align: right;\">Row</th><th style = \"text-align: left;\">MLBAMID</th><th style = \"text-align: left;\">PlayerId</th><th style = \"text-align: left;\">Name</th><th style = \"text-align: left;\">Team</th><th style = \"text-align: left;\">Age</th><th style = \"text-align: left;\">Season</th><th style = \"text-align: left;\">TBF</th><th style = \"text-align: left;\">K</th><th style = \"text-align: left;\">K_prev</th><th style = \"text-align: left;\">TBF_prev</th></tr><tr class = \"subheader headerLastRow\"><th class = \"rowNumber\" style = \"font-weight: bold; text-align: right;\"></th><th title = \"Int64\" style = \"text-align: left;\">Int64</th><th title = \"Int64\" style = \"text-align: left;\">Int64</th><th title = \"String31\" style = \"text-align: left;\">String31</th><th title = \"String7\" style = \"text-align: left;\">String7</th><th title = \"Int64\" style = \"text-align: left;\">Int64</th><th title = \"Int64\" style = \"text-align: left;\">Int64</th><th title = \"Int64\" style = \"text-align: left;\">Int64</th><th title = \"Float64\" style = \"text-align: left;\">Float64</th><th title = \"Float64\" style = \"text-align: left;\">Float64</th><th title = \"Int64\" style = \"text-align: left;\">Int64</th></tr></thead><tbody><tr><td class = \"rowNumber\" style = \"font-weight: bold; text-align: right;\">1</td><td style = \"text-align: right;\">425794</td><td style = \"text-align: right;\">2233</td><td style = \"text-align: left;\">Adam Wainwright</td><td style = \"text-align: left;\">STL</td><td style = \"text-align: right;\">40</td><td style = \"text-align: right;\">2022</td><td style = \"text-align: right;\">803</td><td style = \"text-align: right;\">0.178082</td><td style = \"text-align: right;\">0.210145</td><td style = \"text-align: right;\">828</td></tr><tr><td class = \"rowNumber\" style = \"font-weight: bold; text-align: right;\">2</td><td style = \"text-align: right;\">425794</td><td style = \"text-align: right;\">2233</td><td style = \"text-align: left;\">Adam Wainwright</td><td style = \"text-align: left;\">STL</td><td style = \"text-align: right;\">41</td><td style = \"text-align: right;\">2023</td><td style = \"text-align: right;\">484</td><td style = \"text-align: right;\">0.113636</td><td style = \"text-align: right;\">0.178082</td><td style = \"text-align: right;\">803</td></tr><tr><td class = \"rowNumber\" style = \"font-weight: bold; text-align: right;\">3</td><td style = \"text-align: right;\">425844</td><td style = \"text-align: right;\">1943</td><td style = \"text-align: left;\">Zack Greinke</td><td style = \"text-align: left;\">KCR</td><td style = \"text-align: right;\">38</td><td style = \"text-align: right;\">2022</td><td style = \"text-align: right;\">585</td><td style = \"text-align: right;\">0.124786</td><td style = \"text-align: right;\">0.172166</td><td style = \"text-align: right;\">697</td></tr><tr><td class = \"rowNumber\" style = \"font-weight: bold; text-align: right;\">4</td><td style = \"text-align: right;\">425844</td><td style = \"text-align: right;\">1943</td><td style = \"text-align: left;\">Zack Greinke</td><td style = \"text-align: left;\">KCR</td><td style = \"text-align: right;\">39</td><td style = \"text-align: right;\">2023</td><td style = \"text-align: right;\">593</td><td style = \"text-align: right;\">0.163575</td><td style = \"text-align: right;\">0.124786</td><td style = \"text-align: right;\">585</td></tr><tr><td class = \"rowNumber\" style = \"font-weight: bold; text-align: right;\">5</td><td style = \"text-align: right;\">434378</td><td style = \"text-align: right;\">8700</td><td style = \"text-align: left;\">Justin Verlander</td><td style = \"text-align: left;\">- - -</td><td style = \"text-align: right;\">40</td><td style = \"text-align: right;\">2023</td><td style = \"text-align: right;\">669</td><td style = \"text-align: right;\">0.215247</td><td style = \"text-align: right;\">0.277778</td><td style = \"text-align: right;\">666</td></tr><tr><td class = \"rowNumber\" style = \"font-weight: bold; text-align: right;\">6</td><td style = \"text-align: right;\">434378</td><td style = \"text-align: right;\">8700</td><td style = \"text-align: left;\">Justin Verlander</td><td style = \"text-align: left;\">HOU</td><td style = \"text-align: right;\">41</td><td style = \"text-align: right;\">2024</td><td style = \"text-align: right;\">396</td><td style = \"text-align: right;\">0.186869</td><td style = \"text-align: right;\">0.215247</td><td style = \"text-align: right;\">669</td></tr><tr><td class = \"rowNumber\" style = \"font-weight: bold; text-align: right;\">7</td><td style = \"text-align: right;\">445276</td><td style = \"text-align: right;\">3096</td><td style = \"text-align: left;\">Kenley Jansen</td><td style = \"text-align: left;\">ATL</td><td style = \"text-align: right;\">34</td><td style = \"text-align: right;\">2022</td><td style = \"text-align: right;\">260</td><td style = \"text-align: right;\">0.326923</td><td style = \"text-align: right;\">0.309353</td><td style = \"text-align: right;\">278</td></tr><tr><td class = \"rowNumber\" style = \"font-weight: bold; text-align: right;\">8</td><td style = \"text-align: right;\">445276</td><td style = \"text-align: right;\">3096</td><td style = \"text-align: left;\">Kenley Jansen</td><td style = \"text-align: left;\">BOS</td><td style = \"text-align: right;\">35</td><td style = \"text-align: right;\">2023</td><td style = \"text-align: right;\">188</td><td style = \"text-align: right;\">0.276596</td><td style = \"text-align: right;\">0.326923</td><td style = \"text-align: right;\">260</td></tr><tr><td class = \"rowNumber\" style = \"font-weight: bold; text-align: right;\">9</td><td style = \"text-align: right;\">445276</td><td style = \"text-align: right;\">3096</td><td style = \"text-align: left;\">Kenley Jansen</td><td style = \"text-align: left;\">BOS</td><td style = \"text-align: right;\">36</td><td style = \"text-align: right;\">2024</td><td style = \"text-align: right;\">218</td><td style = \"text-align: right;\">0.284404</td><td style = \"text-align: right;\">0.276596</td><td style = \"text-align: right;\">188</td></tr><tr><td class = \"rowNumber\" style = \"font-weight: bold; text-align: right;\">10</td><td style = \"text-align: right;\">445926</td><td style = \"text-align: right;\">5448</td><td style = \"text-align: left;\">Jesse Chavez</td><td style = \"text-align: left;\">- - -</td><td style = \"text-align: right;\">38</td><td style = \"text-align: right;\">2022</td><td style = \"text-align: right;\">292</td><td style = \"text-align: right;\">0.253425</td><td style = \"text-align: right;\">0.270677</td><td style = \"text-align: right;\">133</td></tr><tr><td class = \"rowNumber\" style = \"font-weight: bold; text-align: right;\">11</td><td style = \"text-align: right;\">445926</td><td style = \"text-align: right;\">5448</td><td style = \"text-align: left;\">Jesse Chavez</td><td style = \"text-align: left;\">ATL</td><td style = \"text-align: right;\">39</td><td style = \"text-align: right;\">2023</td><td style = \"text-align: right;\">144</td><td style = \"text-align: right;\">0.270833</td><td style = \"text-align: right;\">0.253425</td><td style = \"text-align: right;\">292</td></tr><tr><td class = \"rowNumber\" style = \"font-weight: bold; text-align: right;\">12</td><td style = \"text-align: right;\">445926</td><td style = \"text-align: right;\">5448</td><td style = \"text-align: left;\">Jesse Chavez</td><td style = \"text-align: left;\">ATL</td><td style = \"text-align: right;\">40</td><td style = \"text-align: right;\">2024</td><td style = \"text-align: right;\">264</td><td style = \"text-align: right;\">0.208333</td><td style = \"text-align: right;\">0.270833</td><td style = \"text-align: right;\">144</td></tr><tr><td class = \"rowNumber\" style = \"font-weight: bold; text-align: right;\">13</td><td style = \"text-align: right;\">446372</td><td style = \"text-align: right;\">2429</td><td style = \"text-align: left;\">Corey Kluber</td><td style = \"text-align: left;\">TBR</td><td style = \"text-align: right;\">36</td><td style = \"text-align: right;\">2022</td><td style = \"text-align: right;\">689</td><td style = \"text-align: right;\">0.201742</td><td style = \"text-align: right;\">0.240469</td><td style = \"text-align: right;\">341</td></tr><tr><td style = \"text-align: right;\">&vellip;</td><td style = \"text-align: right;\">&vellip;</td><td style = \"text-align: right;\">&vellip;</td><td style = \"text-align: right;\">&vellip;</td><td style = \"text-align: right;\">&vellip;</td><td style = \"text-align: right;\">&vellip;</td><td style = \"text-align: right;\">&vellip;</td><td style = \"text-align: right;\">&vellip;</td><td style = \"text-align: right;\">&vellip;</td><td style = \"text-align: right;\">&vellip;</td><td style = \"text-align: right;\">&vellip;</td></tr><tr><td class = \"rowNumber\" style = \"font-weight: bold; text-align: right;\">1018</td><td style = \"text-align: right;\">687330</td><td style = \"text-align: right;\">25679</td><td style = \"text-align: left;\">Kevin Kelly</td><td style = \"text-align: left;\">TBR</td><td style = \"text-align: right;\">26</td><td style = \"text-align: right;\">2024</td><td style = \"text-align: right;\">278</td><td style = \"text-align: right;\">0.226619</td><td style = \"text-align: right;\">0.202899</td><td style = \"text-align: right;\">276</td></tr><tr><td class = \"rowNumber\" style = \"font-weight: bold; text-align: right;\">1019</td><td style = \"text-align: right;\">689225</td><td style = \"text-align: right;\">26079</td><td style = \"text-align: left;\">Beau Brieske</td><td style = \"text-align: left;\">DET</td><td style = \"text-align: right;\">25</td><td style = \"text-align: right;\">2023</td><td style = \"text-align: right;\">152</td><td style = \"text-align: right;\">0.203947</td><td style = \"text-align: right;\">0.159292</td><td style = \"text-align: right;\">339</td></tr><tr><td class = \"rowNumber\" style = \"font-weight: bold; text-align: right;\">1020</td><td style = \"text-align: right;\">689225</td><td style = \"text-align: right;\">26079</td><td style = \"text-align: left;\">Beau Brieske</td><td style = \"text-align: left;\">DET</td><td style = \"text-align: right;\">26</td><td style = \"text-align: right;\">2024</td><td style = \"text-align: right;\">282</td><td style = \"text-align: right;\">0.244681</td><td style = \"text-align: right;\">0.203947</td><td style = \"text-align: right;\">152</td></tr><tr><td class = \"rowNumber\" style = \"font-weight: bold; text-align: right;\">1021</td><td style = \"text-align: right;\">690986</td><td style = \"text-align: right;\">27758</td><td style = \"text-align: left;\">Kyle Harrison</td><td style = \"text-align: left;\">SFG</td><td style = \"text-align: right;\">22</td><td style = \"text-align: right;\">2024</td><td style = \"text-align: right;\">532</td><td style = \"text-align: right;\">0.221805</td><td style = \"text-align: right;\">0.238095</td><td style = \"text-align: right;\">147</td></tr><tr><td class = \"rowNumber\" style = \"font-weight: bold; text-align: right;\">1022</td><td style = \"text-align: right;\">693433</td><td style = \"text-align: right;\">30279</td><td style = \"text-align: left;\">Bryan Woo</td><td style = \"text-align: left;\">SEA</td><td style = \"text-align: right;\">24</td><td style = \"text-align: right;\">2024</td><td style = \"text-align: right;\">472</td><td style = \"text-align: right;\">0.213983</td><td style = \"text-align: right;\">0.250674</td><td style = \"text-align: right;\">371</td></tr><tr><td class = \"rowNumber\" style = \"font-weight: bold; text-align: right;\">1023</td><td style = \"text-align: right;\">693821</td><td style = \"text-align: right;\">27779</td><td style = \"text-align: left;\">Bryce Elder</td><td style = \"text-align: left;\">ATL</td><td style = \"text-align: right;\">24</td><td style = \"text-align: right;\">2023</td><td style = \"text-align: right;\">732</td><td style = \"text-align: right;\">0.174863</td><td style = \"text-align: right;\">0.207048</td><td style = \"text-align: right;\">227</td></tr><tr><td class = \"rowNumber\" style = \"font-weight: bold; text-align: right;\">1024</td><td style = \"text-align: right;\">693821</td><td style = \"text-align: right;\">27779</td><td style = \"text-align: left;\">Bryce Elder</td><td style = \"text-align: left;\">ATL</td><td style = \"text-align: right;\">25</td><td style = \"text-align: right;\">2024</td><td style = \"text-align: right;\">226</td><td style = \"text-align: right;\">0.20354</td><td style = \"text-align: right;\">0.174863</td><td style = \"text-align: right;\">732</td></tr><tr><td class = \"rowNumber\" style = \"font-weight: bold; text-align: right;\">1025</td><td style = \"text-align: right;\">694297</td><td style = \"text-align: right;\">27782</td><td style = \"text-align: left;\">Brandon Pfaadt</td><td style = \"text-align: left;\">ARI</td><td style = \"text-align: right;\">25</td><td style = \"text-align: right;\">2024</td><td style = \"text-align: right;\">760</td><td style = \"text-align: right;\">0.243421</td><td style = \"text-align: right;\">0.223278</td><td style = \"text-align: right;\">421</td></tr><tr><td class = \"rowNumber\" style = \"font-weight: bold; text-align: right;\">1026</td><td style = \"text-align: right;\">694363</td><td style = \"text-align: right;\">27472</td><td style = \"text-align: left;\">Jared Shuster</td><td style = \"text-align: left;\">CHW</td><td style = \"text-align: right;\">25</td><td style = \"text-align: right;\">2024</td><td style = \"text-align: right;\">321</td><td style = \"text-align: right;\">0.174455</td><td style = \"text-align: right;\">0.130435</td><td style = \"text-align: right;\">230</td></tr><tr><td class = \"rowNumber\" style = \"font-weight: bold; text-align: right;\">1027</td><td style = \"text-align: right;\">694813</td><td style = \"text-align: right;\">27792</td><td style = \"text-align: left;\">Gavin Stone</td><td style = \"text-align: left;\">LAD</td><td style = \"text-align: right;\">25</td><td style = \"text-align: right;\">2024</td><td style = \"text-align: right;\">580</td><td style = \"text-align: right;\">0.2</td><td style = \"text-align: right;\">0.144737</td><td style = \"text-align: right;\">152</td></tr><tr><td class = \"rowNumber\" style = \"font-weight: bold; text-align: right;\">1028</td><td style = \"text-align: right;\">695243</td><td style = \"text-align: right;\">31757</td><td style = \"text-align: left;\">Mason Miller</td><td style = \"text-align: left;\">OAK</td><td style = \"text-align: right;\">25</td><td style = \"text-align: right;\">2024</td><td style = \"text-align: right;\">249</td><td style = \"text-align: right;\">0.417671</td><td style = \"text-align: right;\">0.273381</td><td style = \"text-align: right;\">139</td></tr><tr><td class = \"rowNumber\" style = \"font-weight: bold; text-align: right;\">1029</td><td style = \"text-align: right;\">696136</td><td style = \"text-align: right;\">30094</td><td style = \"text-align: left;\">Jordan Wicks</td><td style = \"text-align: left;\">CHC</td><td style = \"text-align: right;\">24</td><td style = \"text-align: right;\">2024</td><td style = \"text-align: right;\">212</td><td style = \"text-align: right;\">0.198113</td><td style = \"text-align: right;\">0.163265</td><td style = \"text-align: right;\">147</td></tr></tbody></table></div>"
      ],
      "text/latex": [
       "\\begin{tabular}{r|cccccccccc}\n",
       "\t& MLBAMID & PlayerId & Name & Team & Age & Season & TBF & K & K\\_prev & \\\\\n",
       "\t\\hline\n",
       "\t& Int64 & Int64 & String31 & String7 & Int64 & Int64 & Int64 & Float64 & Float64 & \\\\\n",
       "\t\\hline\n",
       "\t1 & 425794 & 2233 & Adam Wainwright & STL & 40 & 2022 & 803 & 0.178082 & 0.210145 & $\\dots$ \\\\\n",
       "\t2 & 425794 & 2233 & Adam Wainwright & STL & 41 & 2023 & 484 & 0.113636 & 0.178082 & $\\dots$ \\\\\n",
       "\t3 & 425844 & 1943 & Zack Greinke & KCR & 38 & 2022 & 585 & 0.124786 & 0.172166 & $\\dots$ \\\\\n",
       "\t4 & 425844 & 1943 & Zack Greinke & KCR & 39 & 2023 & 593 & 0.163575 & 0.124786 & $\\dots$ \\\\\n",
       "\t5 & 434378 & 8700 & Justin Verlander & - - - & 40 & 2023 & 669 & 0.215247 & 0.277778 & $\\dots$ \\\\\n",
       "\t6 & 434378 & 8700 & Justin Verlander & HOU & 41 & 2024 & 396 & 0.186869 & 0.215247 & $\\dots$ \\\\\n",
       "\t7 & 445276 & 3096 & Kenley Jansen & ATL & 34 & 2022 & 260 & 0.326923 & 0.309353 & $\\dots$ \\\\\n",
       "\t8 & 445276 & 3096 & Kenley Jansen & BOS & 35 & 2023 & 188 & 0.276596 & 0.326923 & $\\dots$ \\\\\n",
       "\t9 & 445276 & 3096 & Kenley Jansen & BOS & 36 & 2024 & 218 & 0.284404 & 0.276596 & $\\dots$ \\\\\n",
       "\t10 & 445926 & 5448 & Jesse Chavez & - - - & 38 & 2022 & 292 & 0.253425 & 0.270677 & $\\dots$ \\\\\n",
       "\t11 & 445926 & 5448 & Jesse Chavez & ATL & 39 & 2023 & 144 & 0.270833 & 0.253425 & $\\dots$ \\\\\n",
       "\t12 & 445926 & 5448 & Jesse Chavez & ATL & 40 & 2024 & 264 & 0.208333 & 0.270833 & $\\dots$ \\\\\n",
       "\t13 & 446372 & 2429 & Corey Kluber & TBR & 36 & 2022 & 689 & 0.201742 & 0.240469 & $\\dots$ \\\\\n",
       "\t14 & 446372 & 2429 & Corey Kluber & BOS & 37 & 2023 & 257 & 0.163424 & 0.201742 & $\\dots$ \\\\\n",
       "\t15 & 448179 & 4806 & Rich Hill & BOS & 42 & 2022 & 526 & 0.207224 & 0.226929 & $\\dots$ \\\\\n",
       "\t16 & 448179 & 4806 & Rich Hill & - - - & 43 & 2023 & 660 & 0.195455 & 0.207224 & $\\dots$ \\\\\n",
       "\t17 & 450203 & 4676 & Charlie Morton & ATL & 38 & 2022 & 728 & 0.281593 & 0.285714 & $\\dots$ \\\\\n",
       "\t18 & 450203 & 4676 & Charlie Morton & ATL & 39 & 2023 & 716 & 0.255587 & 0.281593 & $\\dots$ \\\\\n",
       "\t19 & 450203 & 4676 & Charlie Morton & ATL & 40 & 2024 & 701 & 0.238231 & 0.255587 & $\\dots$ \\\\\n",
       "\t20 & 453178 & 6986 & Ian Kennedy & ARI & 37 & 2022 & 232 & 0.189655 & 0.27193 & $\\dots$ \\\\\n",
       "\t21 & 453268 & 7115 & Daniel Bard & COL & 37 & 2022 & 245 & 0.281633 & 0.263158 & $\\dots$ \\\\\n",
       "\t22 & 453268 & 7115 & Daniel Bard & COL & 38 & 2023 & 232 & 0.202586 & 0.281633 & $\\dots$ \\\\\n",
       "\t23 & 453286 & 3137 & Max Scherzer & NYM & 37 & 2022 & 565 & 0.306195 & 0.340548 & $\\dots$ \\\\\n",
       "\t24 & 453286 & 3137 & Max Scherzer & - - - & 38 & 2023 & 621 & 0.280193 & 0.306195 & $\\dots$ \\\\\n",
       "\t$\\dots$ & $\\dots$ & $\\dots$ & $\\dots$ & $\\dots$ & $\\dots$ & $\\dots$ & $\\dots$ & $\\dots$ & $\\dots$ &  \\\\\n",
       "\\end{tabular}\n"
      ],
      "text/plain": [
       "\u001b[1m1029×10 DataFrame\u001b[0m\n",
       "\u001b[1m  Row \u001b[0m│\u001b[1m MLBAMID \u001b[0m\u001b[1m PlayerId \u001b[0m\u001b[1m Name             \u001b[0m\u001b[1m Team    \u001b[0m\u001b[1m Age   \u001b[0m\u001b[1m Season \u001b[0m\u001b[1m TBF   \u001b[0m\u001b[1m K \u001b[0m ⋯\n",
       "      │\u001b[90m Int64   \u001b[0m\u001b[90m Int64    \u001b[0m\u001b[90m String31         \u001b[0m\u001b[90m String7 \u001b[0m\u001b[90m Int64 \u001b[0m\u001b[90m Int64  \u001b[0m\u001b[90m Int64 \u001b[0m\u001b[90m Fl\u001b[0m ⋯\n",
       "──────┼─────────────────────────────────────────────────────────────────────────\n",
       "    1 │  425794      2233  Adam Wainwright   STL         40    2022    803  0. ⋯\n",
       "    2 │  425794      2233  Adam Wainwright   STL         41    2023    484  0.\n",
       "    3 │  425844      1943  Zack Greinke      KCR         38    2022    585  0.\n",
       "    4 │  425844      1943  Zack Greinke      KCR         39    2023    593  0.\n",
       "    5 │  434378      8700  Justin Verlander  - - -       40    2023    669  0. ⋯\n",
       "    6 │  434378      8700  Justin Verlander  HOU         41    2024    396  0.\n",
       "    7 │  445276      3096  Kenley Jansen     ATL         34    2022    260  0.\n",
       "    8 │  445276      3096  Kenley Jansen     BOS         35    2023    188  0.\n",
       "  ⋮   │    ⋮        ⋮             ⋮             ⋮       ⋮      ⋮       ⋮       ⋱\n",
       " 1023 │  693821     27779  Bryce Elder       ATL         24    2023    732  0. ⋯\n",
       " 1024 │  693821     27779  Bryce Elder       ATL         25    2024    226  0.\n",
       " 1025 │  694297     27782  Brandon Pfaadt    ARI         25    2024    760  0.\n",
       " 1026 │  694363     27472  Jared Shuster     CHW         25    2024    321  0.\n",
       " 1027 │  694813     27792  Gavin Stone       LAD         25    2024    580  0. ⋯\n",
       " 1028 │  695243     31757  Mason Miller      OAK         25    2024    249  0.\n",
       " 1029 │  696136     30094  Jordan Wicks      CHC         24    2024    212  0.\n",
       "\u001b[36m                                                 3 columns and 1014 rows omitted\u001b[0m"
      ]
     },
     "metadata": {},
     "output_type": "display_data"
    }
   ],
   "source": [
    "df = CSV.read(\"k.csv\", DataFrame)\n",
    "rename!(df, Symbol(\"K%\") => :K)\n",
    "\n",
    "sort!(df, [:MLBAMID, :Season])\n",
    "df[!, :K_prev] = Vector{Union{Missing, Float64}}(missing, nrow(df))\n",
    "df[!, :TBF_prev] = Vector{Union{Missing, Int64}}(missing, nrow(df))\n",
    "\n",
    "for g in groupby(df, :MLBAMID)\n",
    "    indices = parentindices(g)[1]  # gives original indices from parent DataFrame\n",
    "    for i in 2:length(indices)\n",
    "        curr = indices[i]\n",
    "        prev = indices[i - 1]\n",
    "        df.K_prev[curr] = df.K[prev]\n",
    "        df.TBF_prev[curr] = df.TBF[prev]\n",
    "    end\n",
    "end\n",
    "\n",
    "df_model = dropmissing(df, [:K_prev, :TBF_prev])\n"
   ]
  },
  {
   "cell_type": "code",
   "execution_count": null,
   "id": "ecc05cd6",
   "metadata": {},
   "outputs": [
    {
     "data": {
      "text/plain": [
       "1029-element Vector{Float64}:\n",
       " 0.17808219\n",
       " 0.11363636\n",
       " 0.12478632\n",
       " 0.16357504\n",
       " 0.21524664\n",
       " 0.18686869\n",
       " 0.32692308\n",
       " 0.27659574\n",
       " 0.28440367\n",
       " 0.25342466\n",
       " ⋮\n",
       " 0.22180451\n",
       " 0.21398305\n",
       " 0.17486339\n",
       " 0.20353982\n",
       " 0.24342105\n",
       " 0.17445483\n",
       " 0.2\n",
       " 0.41767068\n",
       " 0.19811321"
      ]
     },
     "metadata": {},
     "output_type": "display_data"
    }
   ],
   "source": [
    "X_df = select(df_model, [:K_prev, :TBF_prev, :Age])\n",
    "y_vec = df_model.K"
   ]
  },
  {
   "cell_type": "code",
   "execution_count": 7,
   "id": "e23abb3b",
   "metadata": {},
   "outputs": [
    {
     "name": "stderr",
     "output_type": "stream",
     "text": [
      "┌ Warning: The number and/or types of data arguments do not match what the specified model\n",
      "│ supports. Suppress this type check by specifying `scitype_check_level=0`.\n",
      "│ \n",
      "│ Run `@doc MLJLinearModels.RidgeRegressor` to learn more about your model's requirements.\n",
      "│ \n",
      "│ Commonly, but non exclusively, supervised models are constructed using the syntax\n",
      "│ `machine(model, X, y)` or `machine(model, X, y, w)` while most other models are\n",
      "│ constructed with `machine(model, X)`.  Here `X` are features, `y` a target, and `w`\n",
      "│ sample or class weights.\n",
      "│ \n",
      "│ In general, data in `machine(model, data...)` is expected to satisfy\n",
      "│ \n",
      "│     scitype(data) <: MLJ.fit_data_scitype(model)\n",
      "│ \n",
      "│ In the present case:\n",
      "│ \n",
      "│ scitype(data) = Tuple{Table{Union{AbstractVector{Continuous}, AbstractVector{Count}}}, AbstractVector{Continuous}}\n",
      "│ \n",
      "│ fit_data_scitype(model) = Tuple{Table{<:AbstractVector{<:Continuous}}, AbstractVector{Continuous}}\n",
      "└ @ MLJBase /Users/ryanwilliams/.julia/packages/MLJBase/7nGJF/src/machines.jl:237\n",
      "┌ Info: Training machine(RidgeRegressor(lambda = 0.1, …), …).\n",
      "└ @ MLJBase /Users/ryanwilliams/.julia/packages/MLJBase/7nGJF/src/machines.jl:499\n",
      "┌ Info: Solver: MLJLinearModels.Analytical\n",
      "│   iterative: Bool false\n",
      "│   max_inner: Int64 200\n",
      "└ @ MLJLinearModels /Users/ryanwilliams/.julia/packages/MLJLinearModels/yYgtO/src/mlj/interface.jl:27\n"
     ]
    },
    {
     "data": {
      "text/plain": [
       "trained Machine; caches model-specific representations of data\n",
       "  model: RidgeRegressor(lambda = 0.1, …)\n",
       "  args: \n",
       "    1:\tSource @494 ⏎ Table{Union{AbstractVector{Continuous}, AbstractVector{Count}}}\n",
       "    2:\tSource @018 ⏎ AbstractVector{Continuous}\n"
      ]
     },
     "metadata": {},
     "output_type": "display_data"
    }
   ],
   "source": [
    "model = RidgeRegressor(lambda=0.1)\n",
    "mach = machine(model, X_df, y_vec)\n",
    "fit!(mach)"
   ]
  },
  {
   "cell_type": "code",
   "execution_count": 8,
   "id": "d1dbf9a8",
   "metadata": {},
   "outputs": [
    {
     "data": {
      "text/plain": [
       "1029-element Vector{Float64}:\n",
       " 0.2134393530560294\n",
       " 0.2137009682414009\n",
       " 0.21814941077655386\n",
       " 0.22157619640183632\n",
       " 0.2211836383626375\n",
       " 0.21974533381554037\n",
       " 0.23791533766482928\n",
       " 0.23885376852589277\n",
       " 0.24063304958290307\n",
       " 0.24247532262035867\n",
       " ⋮\n",
       " 0.24314065030505766\n",
       " 0.23424319250360262\n",
       " 0.2391304372832572\n",
       " 0.2183118032250431\n",
       " 0.23161190021808456\n",
       " 0.23742111138551664\n",
       " 0.24079838727019648\n",
       " 0.24379118088400922\n",
       " 0.2414693906969745"
      ]
     },
     "metadata": {},
     "output_type": "display_data"
    }
   ],
   "source": [
    "y_pred = MLJ.predict(mach, X_df)\n",
    "df_model.K_pred = y_pred"
   ]
  },
  {
   "cell_type": "code",
   "execution_count": 25,
   "id": "94c6098f",
   "metadata": {},
   "outputs": [
    {
     "name": "stdout",
     "output_type": "stream",
     "text": [
      "R² Score: 0.0449\n",
      "RMSE: 0.0544\n"
     ]
    }
   ],
   "source": [
    "r2 = rsq(y_pred, y_vec)\n",
    "rmse = sqrt(mean((y_pred .- y_vec).^2))\n",
    "\n",
    "println(\"R² Score: \", round(r2, digits=4))\n",
    "println(\"RMSE: \", round(rmse, digits=4))"
   ]
  },
  {
   "cell_type": "code",
   "execution_count": null,
   "id": "1e76627c",
   "metadata": {},
   "outputs": [],
   "source": [
    "scatter(y_pred, y_vec, xlabel=\"Predicted K%\", ylabel=\"Actual K%\", title=\"Predicted vs Actual K%\", label=\"\")\n",
    "plot!(identity, label=\"Ideal Fit\", linewidth=2, linestyle=:dash)"
   ]
  },
  {
   "cell_type": "code",
   "execution_count": null,
   "id": "bdf4f307",
   "metadata": {},
   "outputs": [],
   "source": [
    "CSV.write(\"k_predictions_2024.csv\", df_model)"
   ]
  }
 ],
 "metadata": {
  "kernelspec": {
   "display_name": "Julia 1.11.5",
   "language": "julia",
   "name": "julia-1.11"
  },
  "language_info": {
   "file_extension": ".jl",
   "mimetype": "application/julia",
   "name": "julia",
   "version": "1.11.5"
  }
 },
 "nbformat": 4,
 "nbformat_minor": 5
}
